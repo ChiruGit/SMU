{
 "cells": [
  {
   "cell_type": "markdown",
   "metadata": {},
   "source": [
    "# Final Project - Redoing Unit 8 Case Study in Python"
   ]
  },
  {
   "cell_type": "markdown",
   "metadata": {},
   "source": [
    "___Zach Brown___  \n",
    "___August 9, 2017___"
   ]
  },
  {
   "cell_type": "markdown",
   "metadata": {},
   "source": [
    "## Abstract"
   ]
  },
  {
   "cell_type": "markdown",
   "metadata": {},
   "source": []
  },
  {
   "cell_type": "markdown",
   "metadata": {},
   "source": [
    "## Introduction"
   ]
  },
  {
   "cell_type": "markdown",
   "metadata": {},
   "source": []
  },
  {
   "cell_type": "markdown",
   "metadata": {},
   "source": [
    "## Methods and Results"
   ]
  },
  {
   "cell_type": "markdown",
   "metadata": {},
   "source": [
    "The text files containing race data are not formatted the same way from year to year. Some years have additional columns and the headers differ from year to year. We will need to develop a way to programatically determine where the data begins and what columns each file contains. We will start by reading in one of the files and looking at the first 10 rows to see what it looks like."
   ]
  },
  {
   "cell_type": "code",
   "execution_count": 10,
   "metadata": {
    "collapsed": false
   },
   "outputs": [
    {
     "data": {
      "text/plain": [
       "['                 Credit Union Cherry Blossom Ten Mile Run\\n',\n",
       " '                 Washington, DC     Sunday, April 1, 2012\\n',\n",
       " '\\n',\n",
       " '               Female Official Results (Sorted By Net Time)\\n',\n",
       " '\\n',\n",
       " 'Place Div  /Tot   Num    Name                   Ag Hometown             5 Mile  Time    Pace  S \\n',\n",
       " '===== =========== ====== ====================== == ==================== ======= ======= ===== = \\n',\n",
       " '    1     1/2781       2 Jelliah Tinega         26 Kenya                  26:48   54:02  5:25 ! \\n',\n",
       " '    2     2/2781      24 Malika Mejdoub         29 Ethiopia               27:09   54:24  5:27 ! \\n',\n",
       " '    3     1/2228      22 Yihunlish Delelecha    30 Ethiopia               27:09   54:33  5:28 ! \\n']"
      ]
     },
     "execution_count": 10,
     "metadata": {},
     "output_type": "execute_result"
    }
   ],
   "source": [
    "with open('WomenTxt/2012.txt') as f: els = f.readlines()\n",
    "\n",
    "els[:10]"
   ]
  },
  {
   "cell_type": "markdown",
   "metadata": {},
   "source": [
    "We will also read in the 2011 file to compare it with with 2012."
   ]
  },
  {
   "cell_type": "code",
   "execution_count": 11,
   "metadata": {
    "collapsed": false
   },
   "outputs": [
    {
     "data": {
      "text/plain": [
       "['                 Credit Union Cherry Blossom Ten Mile Run\\n',\n",
       " '                 Washington, DC     Sunday, April 3, 2011\\n',\n",
       " '\\n',\n",
       " '               Female Official Results (Sorted By Net Time)\\n',\n",
       " '\\n',\n",
       " 'Place Div  /Tot   Num    Name                   Ag Hometown             5 Mile  Time    Net Tim Pace  S \\n',\n",
       " '===== =========== ====== ====================== == ==================== ======= ======= ======= ===== = \\n',\n",
       " '    1     1/2706      14 Julliah Tinega         25 Kenya                          54:02   54:02  5:25 ! \\n',\n",
       " '    2     1/937       16 Risper Gesabwa         22 Kenya                  27:17   54:03   54:03  5:25 ! \\n',\n",
       " '    3     1/1866      48 Tgist Tufa             30 Ethiopia               27:17   54:13   54:13  5:26 ! \\n']"
      ]
     },
     "execution_count": 11,
     "metadata": {},
     "output_type": "execute_result"
    }
   ],
   "source": [
    "with open('WomenTxt/2011.txt') as f: els2011 = f.readlines()\n",
    "\n",
    "els2011[:10]"
   ]
  },
  {
   "cell_type": "markdown",
   "metadata": {},
   "source": [
    "Comparing these two files, we can see that they both contain similar headers. The column names are separated from the data by a row of equal signs. The equal signs have a space in between them where a new column begins. We can also see an example of different years containing different columns, as 2011 contains a “Net Tim” column, but 2012 does not.\n",
    "\n",
    "We will now begin to determine how to write a function that can read in all of the files and account for their differences. The first step is to determine where the line containing the equals signs is in the file. This can be accomplished using a regular expression and searching for a string of 3 equals signs at the beginning of a line."
   ]
  },
  {
   "cell_type": "code",
   "execution_count": 30,
   "metadata": {
    "collapsed": false
   },
   "outputs": [
    {
     "data": {
      "text/plain": [
       "6"
      ]
     },
     "execution_count": 30,
     "metadata": {},
     "output_type": "execute_result"
    }
   ],
   "source": [
    "import re\n",
    "\n",
    "regex = re.compile('===')\n",
    "\n",
    "for idx, line in enumerate(els, 0):\n",
    "    if regex.match(line):\n",
    "        eqIndex = idx\n",
    "        \n",
    "eqIndex"
   ]
  },
  {
   "cell_type": "markdown",
   "metadata": {},
   "source": [
    "In the 2012 women’s data, the line containing the equals signs is on line 6. With this information, the column headers can be extracted from the previous row and the data can be pulled from the rows following this row."
   ]
  },
  {
   "cell_type": "code",
   "execution_count": 15,
   "metadata": {
    "collapsed": false
   },
   "outputs": [],
   "source": [
    "spacerRow = els[eqIndex]\n",
    "headerRow = els[eqIndex - 1]\n",
    "body = els[eqIndex + 1:]"
   ]
  },
  {
   "cell_type": "markdown",
   "metadata": {},
   "source": [
    "In order to make the header row easier to parse, we will convert the column names to lower case format."
   ]
  },
  {
   "cell_type": "code",
   "execution_count": 18,
   "metadata": {
    "collapsed": true
   },
   "outputs": [],
   "source": [
    "headerRow = headerRow.lower()"
   ]
  },
  {
   "cell_type": "markdown",
   "metadata": {},
   "source": [
    "Each column will need to be extracted individually. In order to determine how to do this, we will begin with the age column. We will attempt to locate the age data by finding the starting position of the age column in the header row."
   ]
  },
  {
   "cell_type": "code",
   "execution_count": 20,
   "metadata": {
    "collapsed": false
   },
   "outputs": [
    {
     "data": {
      "text/plain": [
       "'place div  /tot   num    name                   ag hometown             5 mile  time    pace  s \\n'"
      ]
     },
     "execution_count": 20,
     "metadata": {},
     "output_type": "execute_result"
    }
   ],
   "source": [
    "headerRow"
   ]
  },
  {
   "cell_type": "code",
   "execution_count": 31,
   "metadata": {
    "collapsed": false
   },
   "outputs": [
    {
     "data": {
      "text/plain": [
       "48"
      ]
     },
     "execution_count": 31,
     "metadata": {},
     "output_type": "execute_result"
    }
   ],
   "source": [
    "ageStart = re.search('ag', headerRow).span()[0]\n",
    "\n",
    "ageStart"
   ]
  },
  {
   "cell_type": "markdown",
   "metadata": {},
   "source": [
    "The “ag” column name in the header row begins in position 48. We will attempt to pull the ages of runners by taking positions 48 and 49 of the data."
   ]
  },
  {
   "cell_type": "code",
   "execution_count": 42,
   "metadata": {
    "collapsed": false
   },
   "outputs": [
    {
     "data": {
      "text/plain": [
       "['26', '29', '30', '26', '29', '29']"
      ]
     },
     "execution_count": 42,
     "metadata": {},
     "output_type": "execute_result"
    }
   ],
   "source": [
    "age = []\n",
    "for line in body:\n",
    "    age.extend([line[ageStart : ageStart + 2]])\n",
    "\n",
    "age[:6]"
   ]
  },
  {
   "cell_type": "code",
   "execution_count": 65,
   "metadata": {
    "collapsed": false
   },
   "outputs": [
    {
     "name": "stdout",
     "output_type": "stream",
     "text": [
      "Min: 12\n",
      "1st Qu.: 27.0\n",
      "Median: 32.0\n",
      "Mean: 33.8779033916\n",
      "3rd Qu.: 39.0\n",
      "Max: 75\n"
     ]
    }
   ],
   "source": [
    "import numpy as np\n",
    "\n",
    "def summary(array):\n",
    "    print('Min: ' + str(np.min(array)))\n",
    "    print('1st Qu.: ' + str(np.percentile(array, 25)))\n",
    "    print('Median: ' + str(np.median(array)))\n",
    "    print('Mean: ' + str(np.mean(array)))\n",
    "    print('3rd Qu.: ' + str(np.percentile(array, 75)))    \n",
    "    print('Max: ' + str(np.max(array)))\n",
    "    \n",
    "age_np = np.array(age).astype(int)\n",
    "summary(age_np)"
   ]
  },
  {
   "cell_type": "markdown",
   "metadata": {},
   "source": [
    "This appears to have worked. The youngest female runner in 2012 was 12 and the oldest was 75. There are also no null values, which is a positive sign.\n",
    "Since the column widths can change from year to year, an easier method for determining where columns begin and end is to search for the breaks in the spacer row. This can be done using a global regular expression."
   ]
  },
  {
   "cell_type": "code",
   "execution_count": 83,
   "metadata": {
    "collapsed": false
   },
   "outputs": [
    {
     "name": "stdout",
     "output_type": "stream",
     "text": [
      "[5, 17, 24, 47, 50, 71, 79, 87, 93, 95]\n"
     ]
    }
   ],
   "source": [
    "regex = re.compile(' ')\n",
    "blankLocs = []\n",
    "for i in regex.finditer(spacerRow):\n",
    "    blankLocs.extend([i.start()])\n",
    "\n",
    "print(blankLocs)"
   ]
  },
  {
   "cell_type": "markdown",
   "metadata": {},
   "source": [
    "This returns the locations of all of the spaces in the row of equals signs, but since there is not a space at the beginning of the row, a 0 can be appended to the output to specify the starting position of the first column."
   ]
  },
  {
   "cell_type": "code",
   "execution_count": 84,
   "metadata": {
    "collapsed": false
   },
   "outputs": [
    {
     "name": "stdout",
     "output_type": "stream",
     "text": [
      "[0, 5, 17, 24, 47, 50, 71, 79, 87, 93, 95]\n"
     ]
    }
   ],
   "source": [
    "searchLocs = [0] + blankLocs\n",
    "print(searchLocs)"
   ]
  },
  {
   "cell_type": "code",
   "execution_count": null,
   "metadata": {
    "collapsed": true
   },
   "outputs": [],
   "source": []
  }
 ],
 "metadata": {
  "anaconda-cloud": {},
  "kernelspec": {
   "display_name": "Python [conda root]",
   "language": "python",
   "name": "conda-root-py"
  },
  "language_info": {
   "codemirror_mode": {
    "name": "ipython",
    "version": 3
   },
   "file_extension": ".py",
   "mimetype": "text/x-python",
   "name": "python",
   "nbconvert_exporter": "python",
   "pygments_lexer": "ipython3",
   "version": "3.5.2"
  }
 },
 "nbformat": 4,
 "nbformat_minor": 1
}
