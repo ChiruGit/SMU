{
 "cells": [
  {
   "cell_type": "markdown",
   "metadata": {},
   "source": [
    "# Unit 14 Case Study - Analyzing Airline Flight Delays\n",
    "___Zach Brown___  \n",
    "___August 9, 2017___"
   ]
  },
  {
   "cell_type": "markdown",
   "metadata": {},
   "source": [
    "## Introduction"
   ]
  },
  {
   "cell_type": "markdown",
   "metadata": {},
   "source": [
    "In the age of big data, the possibilities for analysis have been greatly expanded.  However, with new possibilites also come new challenges.  While many organizations now have massive data sets with the possibility to generate useful insights, the size of these data sets can also be unwieldy.  \n",
    "\n",
    "In this case study, we will examine a data set containing domestic flight data for U.S. airlines for the years 1987 through 2008.  Using standard python and pandas operations, all of the data is loaded into memory at once.  However, the uncompressed data files for this data set are between 450 and 700 megabytes per year for a total of 11.2 gigabytes.  That is simply too much data to be loaded into memory at one time using standard hardware at the current time.  A different method will need to be utilized.\n",
    "\n",
    "In order to analyze the airline data set, we will use the GraphLab library from Turi (formerly Dato).  GraphLab is a parallel programming framework written in C++ and will allow us to use the split-apply-combine method of operating on this large dataset.  In order to test this functionality, we will explore the data specific to flight delays.  We will examine number of delays broken down by airport and flight route and then attempt to determine the length of a delay using linear regression."
   ]
  },
  {
   "cell_type": "markdown",
   "metadata": {},
   "source": [
    "## Methods and Results"
   ]
  },
  {
   "cell_type": "markdown",
   "metadata": {},
   "source": [
    "First we need to create a directory to hold the data files if it does not already exist"
   ]
  },
  {
   "cell_type": "code",
   "execution_count": null,
   "metadata": {
    "collapsed": true
   },
   "outputs": [],
   "source": [
    "import os, sys\n",
    "# create a Data directory if not done already\n",
    "path = \"Data\"\n",
    "if not os.path.exists(path):\n",
    "    os.mkdir(path)"
   ]
  },
  {
   "cell_type": "markdown",
   "metadata": {},
   "source": [
    "Now that the Data directory exists, each of the compressed files for the years 1987 through 2008 can be downloaded."
   ]
  },
  {
   "cell_type": "code",
   "execution_count": null,
   "metadata": {
    "collapsed": true
   },
   "outputs": [],
   "source": [
    "import urllib.request\n",
    "\n",
    "years_to_download = range(1987,2009) # get the years 1987 through 2008\n",
    "baseurl = 'http://stat-computing.org/dataexpo/2009/%d.csv.bz2' \n",
    "\n",
    "files = []\n",
    "for year in years_to_download:\n",
    "    # prepare strings\n",
    "    url_of_data_file = baseurl%(year) # get the URL for the data file\n",
    "    save_as_filename = 'Data/%d.csv.bz2'%(year) # save as this\n",
    "    files += [save_as_filename] # save name of the compressed file\n",
    "    \n",
    "    # download file\n",
    "    print('Downloading %s to %s'%(url_of_data_file, save_as_filename)) # progress update\n",
    "    urllib.request.urlretrieve(url_of_data_file, save_as_filename) #execute download\n",
    "    \n",
    "print(files)"
   ]
  },
  {
   "cell_type": "markdown",
   "metadata": {},
   "source": [
    "In order to work with the data files, they first need to be decompressed."
   ]
  },
  {
   "cell_type": "code",
   "execution_count": null,
   "metadata": {
    "collapsed": true
   },
   "outputs": [],
   "source": [
    "import bz2\n",
    "\n",
    "# Decompress all the files\n",
    "for filename in files:\n",
    "    # get file names\n",
    "    filepath = filename\n",
    "    newfilepath = filename[:-4]\n",
    "    print('Decompressing', filepath,'to', newfilepath)\n",
    "    \n",
    "    # go through the decompressed chunks and write out to a decompressed file\n",
    "    with open(newfilepath, 'wb') as new_file, bz2.BZ2File(filepath, 'rb') as file:\n",
    "        for data in iter(lambda : file.read(100 * 1024), b''):\n",
    "            new_file.write(data)"
   ]
  },
  {
   "cell_type": "markdown",
   "metadata": {},
   "source": [
    "Now that all of the files have been downloaded and decompressed, we can load a couple of them into memory just to make sure that they look correct before loading all of the files."
   ]
  },
  {
   "cell_type": "code",
   "execution_count": 3,
   "metadata": {},
   "outputs": [
    {
     "name": "stdout",
     "output_type": "stream",
     "text": [
      "('loading', 'Data/1987.csv')\n",
      "('loading', 'Data/1988.csv')\n",
      "('Answer from python:', 6513922)\n"
     ]
    },
    {
     "data": {
      "text/html": [
       "<div>\n",
       "<style>\n",
       "    .dataframe thead tr:only-child th {\n",
       "        text-align: right;\n",
       "    }\n",
       "\n",
       "    .dataframe thead th {\n",
       "        text-align: left;\n",
       "    }\n",
       "\n",
       "    .dataframe tbody tr th {\n",
       "        vertical-align: top;\n",
       "    }\n",
       "</style>\n",
       "<table border=\"1\" class=\"dataframe\">\n",
       "  <thead>\n",
       "    <tr style=\"text-align: right;\">\n",
       "      <th></th>\n",
       "      <th>Year</th>\n",
       "      <th>Month</th>\n",
       "      <th>DayofMonth</th>\n",
       "      <th>DayOfWeek</th>\n",
       "      <th>DepTime</th>\n",
       "      <th>CRSDepTime</th>\n",
       "      <th>ArrTime</th>\n",
       "      <th>CRSArrTime</th>\n",
       "      <th>UniqueCarrier</th>\n",
       "      <th>FlightNum</th>\n",
       "      <th>...</th>\n",
       "      <th>TaxiIn</th>\n",
       "      <th>TaxiOut</th>\n",
       "      <th>Cancelled</th>\n",
       "      <th>CancellationCode</th>\n",
       "      <th>Diverted</th>\n",
       "      <th>CarrierDelay</th>\n",
       "      <th>WeatherDelay</th>\n",
       "      <th>NASDelay</th>\n",
       "      <th>SecurityDelay</th>\n",
       "      <th>LateAircraftDelay</th>\n",
       "    </tr>\n",
       "  </thead>\n",
       "  <tbody>\n",
       "    <tr>\n",
       "      <th>0</th>\n",
       "      <td>1988</td>\n",
       "      <td>1</td>\n",
       "      <td>9</td>\n",
       "      <td>6</td>\n",
       "      <td>1348.0</td>\n",
       "      <td>1331</td>\n",
       "      <td>1458.0</td>\n",
       "      <td>1435</td>\n",
       "      <td>PI</td>\n",
       "      <td>942</td>\n",
       "      <td>...</td>\n",
       "      <td>NaN</td>\n",
       "      <td>NaN</td>\n",
       "      <td>0</td>\n",
       "      <td>NaN</td>\n",
       "      <td>0</td>\n",
       "      <td>NaN</td>\n",
       "      <td>NaN</td>\n",
       "      <td>NaN</td>\n",
       "      <td>NaN</td>\n",
       "      <td>NaN</td>\n",
       "    </tr>\n",
       "    <tr>\n",
       "      <th>1</th>\n",
       "      <td>1988</td>\n",
       "      <td>1</td>\n",
       "      <td>10</td>\n",
       "      <td>7</td>\n",
       "      <td>1334.0</td>\n",
       "      <td>1331</td>\n",
       "      <td>1443.0</td>\n",
       "      <td>1435</td>\n",
       "      <td>PI</td>\n",
       "      <td>942</td>\n",
       "      <td>...</td>\n",
       "      <td>NaN</td>\n",
       "      <td>NaN</td>\n",
       "      <td>0</td>\n",
       "      <td>NaN</td>\n",
       "      <td>0</td>\n",
       "      <td>NaN</td>\n",
       "      <td>NaN</td>\n",
       "      <td>NaN</td>\n",
       "      <td>NaN</td>\n",
       "      <td>NaN</td>\n",
       "    </tr>\n",
       "    <tr>\n",
       "      <th>2</th>\n",
       "      <td>1988</td>\n",
       "      <td>1</td>\n",
       "      <td>11</td>\n",
       "      <td>1</td>\n",
       "      <td>1446.0</td>\n",
       "      <td>1331</td>\n",
       "      <td>1553.0</td>\n",
       "      <td>1435</td>\n",
       "      <td>PI</td>\n",
       "      <td>942</td>\n",
       "      <td>...</td>\n",
       "      <td>NaN</td>\n",
       "      <td>NaN</td>\n",
       "      <td>0</td>\n",
       "      <td>NaN</td>\n",
       "      <td>0</td>\n",
       "      <td>NaN</td>\n",
       "      <td>NaN</td>\n",
       "      <td>NaN</td>\n",
       "      <td>NaN</td>\n",
       "      <td>NaN</td>\n",
       "    </tr>\n",
       "    <tr>\n",
       "      <th>3</th>\n",
       "      <td>1988</td>\n",
       "      <td>1</td>\n",
       "      <td>12</td>\n",
       "      <td>2</td>\n",
       "      <td>1334.0</td>\n",
       "      <td>1331</td>\n",
       "      <td>1438.0</td>\n",
       "      <td>1435</td>\n",
       "      <td>PI</td>\n",
       "      <td>942</td>\n",
       "      <td>...</td>\n",
       "      <td>NaN</td>\n",
       "      <td>NaN</td>\n",
       "      <td>0</td>\n",
       "      <td>NaN</td>\n",
       "      <td>0</td>\n",
       "      <td>NaN</td>\n",
       "      <td>NaN</td>\n",
       "      <td>NaN</td>\n",
       "      <td>NaN</td>\n",
       "      <td>NaN</td>\n",
       "    </tr>\n",
       "    <tr>\n",
       "      <th>4</th>\n",
       "      <td>1988</td>\n",
       "      <td>1</td>\n",
       "      <td>13</td>\n",
       "      <td>3</td>\n",
       "      <td>1341.0</td>\n",
       "      <td>1331</td>\n",
       "      <td>1503.0</td>\n",
       "      <td>1435</td>\n",
       "      <td>PI</td>\n",
       "      <td>942</td>\n",
       "      <td>...</td>\n",
       "      <td>NaN</td>\n",
       "      <td>NaN</td>\n",
       "      <td>0</td>\n",
       "      <td>NaN</td>\n",
       "      <td>0</td>\n",
       "      <td>NaN</td>\n",
       "      <td>NaN</td>\n",
       "      <td>NaN</td>\n",
       "      <td>NaN</td>\n",
       "      <td>NaN</td>\n",
       "    </tr>\n",
       "  </tbody>\n",
       "</table>\n",
       "<p>5 rows × 29 columns</p>\n",
       "</div>"
      ],
      "text/plain": [
       "   Year  Month  DayofMonth  DayOfWeek  DepTime  CRSDepTime  ArrTime  \\\n",
       "0  1988      1           9          6   1348.0        1331   1458.0   \n",
       "1  1988      1          10          7   1334.0        1331   1443.0   \n",
       "2  1988      1          11          1   1446.0        1331   1553.0   \n",
       "3  1988      1          12          2   1334.0        1331   1438.0   \n",
       "4  1988      1          13          3   1341.0        1331   1503.0   \n",
       "\n",
       "   CRSArrTime UniqueCarrier  FlightNum        ...          TaxiIn  TaxiOut  \\\n",
       "0        1435            PI        942        ...             NaN      NaN   \n",
       "1        1435            PI        942        ...             NaN      NaN   \n",
       "2        1435            PI        942        ...             NaN      NaN   \n",
       "3        1435            PI        942        ...             NaN      NaN   \n",
       "4        1435            PI        942        ...             NaN      NaN   \n",
       "\n",
       "   Cancelled  CancellationCode  Diverted  CarrierDelay WeatherDelay NASDelay  \\\n",
       "0          0               NaN         0           NaN          NaN      NaN   \n",
       "1          0               NaN         0           NaN          NaN      NaN   \n",
       "2          0               NaN         0           NaN          NaN      NaN   \n",
       "3          0               NaN         0           NaN          NaN      NaN   \n",
       "4          0               NaN         0           NaN          NaN      NaN   \n",
       "\n",
       "   SecurityDelay  LateAircraftDelay  \n",
       "0            NaN                NaN  \n",
       "1            NaN                NaN  \n",
       "2            NaN                NaN  \n",
       "3            NaN                NaN  \n",
       "4            NaN                NaN  \n",
       "\n",
       "[5 rows x 29 columns]"
      ]
     },
     "execution_count": 3,
     "metadata": {},
     "output_type": "execute_result"
    }
   ],
   "source": [
    "# Loading individual files in python\n",
    "import pandas as pd\n",
    "import numpy as np\n",
    "import sys\n",
    "\n",
    "total_length = 0\n",
    "for year in [1987,1988]:\n",
    "    # get file name of the csv\n",
    "    # note that we can also load in the raw .bz2 file in python (or R) \n",
    "    # but the decompression step for these files sizes takes a huge performance hit\n",
    "    csvfile = 'Data/%d.csv'%(year)\n",
    "    print('loading', csvfile)\n",
    "    sys.stdout.flush()\n",
    "    \n",
    "    # read the file and increment the lines count\n",
    "    df = pd.read_csv(csvfile) # note that this is a big operation, especially since we just want the length\n",
    "    # one way of making this shorter is to filter which columns we are loading\n",
    "    \n",
    "    total_length += len(df)\n",
    "\n",
    "print('Answer from python:', total_length) \n",
    "df.head()"
   ]
  },
  {
   "cell_type": "markdown",
   "metadata": {},
   "source": [
    "The files appear to have downloaded correctly without being corrupted.  They are too large to be loaded into memory, so we will load them into one large GraphLab SFrame.  This is done by initializing an empty SFrame and then appending the data from each file to it one at a time in a for loop.  In order to be sure that the SFrame uses the correct data type for each variable, a list of data types will be passed in the column_type_hints parameter.  Once the SFrame has been populated, we will also save a compressed version of it in case we want to reload it directly without going through these initial steps at a later time."
   ]
  },
  {
   "cell_type": "code",
   "execution_count": 2,
   "metadata": {
    "collapsed": true
   },
   "outputs": [],
   "source": [
    "import graphlab as gl\n",
    "import time"
   ]
  },
  {
   "cell_type": "code",
   "execution_count": 3,
   "metadata": {},
   "outputs": [
    {
     "name": "stdout",
     "output_type": "stream",
     "text": [
      "This non-commercial license of GraphLab Create for academic use is assigned to zlbrown@smu.edu and will expire on August 02, 2018.\n"
     ]
    },
    {
     "name": "stderr",
     "output_type": "stream",
     "text": [
      "[INFO] graphlab.cython.cy_server: GraphLab Create v2.1 started. Logging: C:\\Users\\xzach\\AppData\\Local\\Temp\\graphlab_server_1502166878.log.0\n"
     ]
    },
    {
     "name": "stdout",
     "output_type": "stream",
     "text": [
      "read 0 lines, reading next file 1987.csv\n"
     ]
    },
    {
     "data": {
      "text/html": [
       "<pre>Read 540959 lines. Lines per second: 444650</pre>"
      ],
      "text/plain": [
       "Read 540959 lines. Lines per second: 444650"
      ]
     },
     "metadata": {},
     "output_type": "display_data"
    },
    {
     "data": {
      "text/html": [
       "<pre>Finished parsing file C:\\Users\\xzach\\GitHub\\SMU\\MSDS 7333 - Quantifying the World\\Unit 14 Case Study\\Data\\1987.csv</pre>"
      ],
      "text/plain": [
       "Finished parsing file C:\\Users\\xzach\\GitHub\\SMU\\MSDS 7333 - Quantifying the World\\Unit 14 Case Study\\Data\\1987.csv"
      ]
     },
     "metadata": {},
     "output_type": "display_data"
    },
    {
     "data": {
      "text/html": [
       "<pre>Parsing completed. Parsed 1311826 lines in 1.88639 secs.</pre>"
      ],
      "text/plain": [
       "Parsing completed. Parsed 1311826 lines in 1.88639 secs."
      ]
     },
     "metadata": {},
     "output_type": "display_data"
    },
    {
     "name": "stdout",
     "output_type": "stream",
     "text": [
      "read 1311826 lines, reading next file 1988.csv\n"
     ]
    },
    {
     "data": {
      "text/html": [
       "<pre>Read 3276291 lines. Lines per second: 780222</pre>"
      ],
      "text/plain": [
       "Read 3276291 lines. Lines per second: 780222"
      ]
     },
     "metadata": {},
     "output_type": "display_data"
    },
    {
     "data": {
      "text/html": [
       "<pre>Finished parsing file C:\\Users\\xzach\\GitHub\\SMU\\MSDS 7333 - Quantifying the World\\Unit 14 Case Study\\Data\\1988.csv</pre>"
      ],
      "text/plain": [
       "Finished parsing file C:\\Users\\xzach\\GitHub\\SMU\\MSDS 7333 - Quantifying the World\\Unit 14 Case Study\\Data\\1988.csv"
      ]
     },
     "metadata": {},
     "output_type": "display_data"
    },
    {
     "data": {
      "text/html": [
       "<pre>Parsing completed. Parsed 5202096 lines in 6.10784 secs.</pre>"
      ],
      "text/plain": [
       "Parsing completed. Parsed 5202096 lines in 6.10784 secs."
      ]
     },
     "metadata": {},
     "output_type": "display_data"
    },
    {
     "name": "stdout",
     "output_type": "stream",
     "text": [
      "read 6513922 lines, reading next file 1989.csv\n"
     ]
    },
    {
     "data": {
      "text/html": [
       "<pre>Read 2179541 lines. Lines per second: 764474</pre>"
      ],
      "text/plain": [
       "Read 2179541 lines. Lines per second: 764474"
      ]
     },
     "metadata": {},
     "output_type": "display_data"
    },
    {
     "data": {
      "text/html": [
       "<pre>Finished parsing file C:\\Users\\xzach\\GitHub\\SMU\\MSDS 7333 - Quantifying the World\\Unit 14 Case Study\\Data\\1989.csv</pre>"
      ],
      "text/plain": [
       "Finished parsing file C:\\Users\\xzach\\GitHub\\SMU\\MSDS 7333 - Quantifying the World\\Unit 14 Case Study\\Data\\1989.csv"
      ]
     },
     "metadata": {},
     "output_type": "display_data"
    },
    {
     "data": {
      "text/html": [
       "<pre>Parsing completed. Parsed 5041200 lines in 5.77388 secs.</pre>"
      ],
      "text/plain": [
       "Parsing completed. Parsed 5041200 lines in 5.77388 secs."
      ]
     },
     "metadata": {},
     "output_type": "display_data"
    },
    {
     "name": "stdout",
     "output_type": "stream",
     "text": [
      "read 11555122 lines, reading next file 1990.csv\n"
     ]
    },
    {
     "data": {
      "text/html": [
       "<pre>Read 1089088 lines. Lines per second: 640746</pre>"
      ],
      "text/plain": [
       "Read 1089088 lines. Lines per second: 640746"
      ]
     },
     "metadata": {},
     "output_type": "display_data"
    },
    {
     "data": {
      "text/html": [
       "<pre>Finished parsing file C:\\Users\\xzach\\GitHub\\SMU\\MSDS 7333 - Quantifying the World\\Unit 14 Case Study\\Data\\1990.csv</pre>"
      ],
      "text/plain": [
       "Finished parsing file C:\\Users\\xzach\\GitHub\\SMU\\MSDS 7333 - Quantifying the World\\Unit 14 Case Study\\Data\\1990.csv"
      ]
     },
     "metadata": {},
     "output_type": "display_data"
    },
    {
     "data": {
      "text/html": [
       "<pre>Parsing completed. Parsed 5270893 lines in 5.82219 secs.</pre>"
      ],
      "text/plain": [
       "Parsing completed. Parsed 5270893 lines in 5.82219 secs."
      ]
     },
     "metadata": {},
     "output_type": "display_data"
    },
    {
     "name": "stdout",
     "output_type": "stream",
     "text": [
      "read 16826015 lines, reading next file 1991.csv\n"
     ]
    },
    {
     "data": {
      "text/html": [
       "<pre>Read 543797 lines. Lines per second: 447804</pre>"
      ],
      "text/plain": [
       "Read 543797 lines. Lines per second: 447804"
      ]
     },
     "metadata": {},
     "output_type": "display_data"
    },
    {
     "data": {
      "text/html": [
       "<pre>Finished parsing file C:\\Users\\xzach\\GitHub\\SMU\\MSDS 7333 - Quantifying the World\\Unit 14 Case Study\\Data\\1991.csv</pre>"
      ],
      "text/plain": [
       "Finished parsing file C:\\Users\\xzach\\GitHub\\SMU\\MSDS 7333 - Quantifying the World\\Unit 14 Case Study\\Data\\1991.csv"
      ]
     },
     "metadata": {},
     "output_type": "display_data"
    },
    {
     "data": {
      "text/html": [
       "<pre>Parsing completed. Parsed 5076925 lines in 5.96666 secs.</pre>"
      ],
      "text/plain": [
       "Parsing completed. Parsed 5076925 lines in 5.96666 secs."
      ]
     },
     "metadata": {},
     "output_type": "display_data"
    },
    {
     "name": "stdout",
     "output_type": "stream",
     "text": [
      "read 21902940 lines, reading next file 1992.csv\n"
     ]
    },
    {
     "data": {
      "text/html": [
       "<pre>Read 544035 lines. Lines per second: 431610</pre>"
      ],
      "text/plain": [
       "Read 544035 lines. Lines per second: 431610"
      ]
     },
     "metadata": {},
     "output_type": "display_data"
    },
    {
     "data": {
      "text/html": [
       "<pre>Finished parsing file C:\\Users\\xzach\\GitHub\\SMU\\MSDS 7333 - Quantifying the World\\Unit 14 Case Study\\Data\\1992.csv</pre>"
      ],
      "text/plain": [
       "Finished parsing file C:\\Users\\xzach\\GitHub\\SMU\\MSDS 7333 - Quantifying the World\\Unit 14 Case Study\\Data\\1992.csv"
      ]
     },
     "metadata": {},
     "output_type": "display_data"
    },
    {
     "data": {
      "text/html": [
       "<pre>Parsing completed. Parsed 5092157 lines in 6.20378 secs.</pre>"
      ],
      "text/plain": [
       "Parsing completed. Parsed 5092157 lines in 6.20378 secs."
      ]
     },
     "metadata": {},
     "output_type": "display_data"
    },
    {
     "name": "stdout",
     "output_type": "stream",
     "text": [
      "read 26995097 lines, reading next file 1993.csv\n"
     ]
    },
    {
     "data": {
      "text/html": [
       "<pre>Read 543425 lines. Lines per second: 463793</pre>"
      ],
      "text/plain": [
       "Read 543425 lines. Lines per second: 463793"
      ]
     },
     "metadata": {},
     "output_type": "display_data"
    },
    {
     "data": {
      "text/html": [
       "<pre>Finished parsing file C:\\Users\\xzach\\GitHub\\SMU\\MSDS 7333 - Quantifying the World\\Unit 14 Case Study\\Data\\1993.csv</pre>"
      ],
      "text/plain": [
       "Finished parsing file C:\\Users\\xzach\\GitHub\\SMU\\MSDS 7333 - Quantifying the World\\Unit 14 Case Study\\Data\\1993.csv"
      ]
     },
     "metadata": {},
     "output_type": "display_data"
    },
    {
     "data": {
      "text/html": [
       "<pre>Parsing completed. Parsed 5070501 lines in 5.8465 secs.</pre>"
      ],
      "text/plain": [
       "Parsing completed. Parsed 5070501 lines in 5.8465 secs."
      ]
     },
     "metadata": {},
     "output_type": "display_data"
    },
    {
     "name": "stdout",
     "output_type": "stream",
     "text": [
      "read 32065598 lines, reading next file 1994.csv\n"
     ]
    },
    {
     "data": {
      "text/html": [
       "<pre>Read 543673 lines. Lines per second: 443006</pre>"
      ],
      "text/plain": [
       "Read 543673 lines. Lines per second: 443006"
      ]
     },
     "metadata": {},
     "output_type": "display_data"
    },
    {
     "data": {
      "text/html": [
       "<pre>Finished parsing file C:\\Users\\xzach\\GitHub\\SMU\\MSDS 7333 - Quantifying the World\\Unit 14 Case Study\\Data\\1994.csv</pre>"
      ],
      "text/plain": [
       "Finished parsing file C:\\Users\\xzach\\GitHub\\SMU\\MSDS 7333 - Quantifying the World\\Unit 14 Case Study\\Data\\1994.csv"
      ]
     },
     "metadata": {},
     "output_type": "display_data"
    },
    {
     "data": {
      "text/html": [
       "<pre>Parsing completed. Parsed 5180048 lines in 6.07895 secs.</pre>"
      ],
      "text/plain": [
       "Parsing completed. Parsed 5180048 lines in 6.07895 secs."
      ]
     },
     "metadata": {},
     "output_type": "display_data"
    },
    {
     "name": "stdout",
     "output_type": "stream",
     "text": [
      "read 37245646 lines, reading next file 1995.csv\n"
     ]
    },
    {
     "data": {
      "text/html": [
       "<pre>Read 527246 lines. Lines per second: 412060</pre>"
      ],
      "text/plain": [
       "Read 527246 lines. Lines per second: 412060"
      ]
     },
     "metadata": {},
     "output_type": "display_data"
    },
    {
     "data": {
      "text/html": [
       "<pre>Read 4739268 lines. Lines per second: 715315</pre>"
      ],
      "text/plain": [
       "Read 4739268 lines. Lines per second: 715315"
      ]
     },
     "metadata": {},
     "output_type": "display_data"
    },
    {
     "data": {
      "text/html": [
       "<pre>Finished parsing file C:\\Users\\xzach\\GitHub\\SMU\\MSDS 7333 - Quantifying the World\\Unit 14 Case Study\\Data\\1995.csv</pre>"
      ],
      "text/plain": [
       "Finished parsing file C:\\Users\\xzach\\GitHub\\SMU\\MSDS 7333 - Quantifying the World\\Unit 14 Case Study\\Data\\1995.csv"
      ]
     },
     "metadata": {},
     "output_type": "display_data"
    },
    {
     "data": {
      "text/html": [
       "<pre>Parsing completed. Parsed 5327435 lines in 7.22303 secs.</pre>"
      ],
      "text/plain": [
       "Parsing completed. Parsed 5327435 lines in 7.22303 secs."
      ]
     },
     "metadata": {},
     "output_type": "display_data"
    },
    {
     "name": "stdout",
     "output_type": "stream",
     "text": [
      "read 42573081 lines, reading next file 1996.csv\n"
     ]
    },
    {
     "data": {
      "text/html": [
       "<pre>Read 2109273 lines. Lines per second: 595502</pre>"
      ],
      "text/plain": [
       "Read 2109273 lines. Lines per second: 595502"
      ]
     },
     "metadata": {},
     "output_type": "display_data"
    },
    {
     "data": {
      "text/html": [
       "<pre>Finished parsing file C:\\Users\\xzach\\GitHub\\SMU\\MSDS 7333 - Quantifying the World\\Unit 14 Case Study\\Data\\1996.csv</pre>"
      ],
      "text/plain": [
       "Finished parsing file C:\\Users\\xzach\\GitHub\\SMU\\MSDS 7333 - Quantifying the World\\Unit 14 Case Study\\Data\\1996.csv"
      ]
     },
     "metadata": {},
     "output_type": "display_data"
    },
    {
     "data": {
      "text/html": [
       "<pre>Parsing completed. Parsed 5351983 lines in 7.87963 secs.</pre>"
      ],
      "text/plain": [
       "Parsing completed. Parsed 5351983 lines in 7.87963 secs."
      ]
     },
     "metadata": {},
     "output_type": "display_data"
    },
    {
     "name": "stdout",
     "output_type": "stream",
     "text": [
      "read 47925064 lines, reading next file 1997.csv\n"
     ]
    },
    {
     "data": {
      "text/html": [
       "<pre>Read 529207 lines. Lines per second: 389520</pre>"
      ],
      "text/plain": [
       "Read 529207 lines. Lines per second: 389520"
      ]
     },
     "metadata": {},
     "output_type": "display_data"
    },
    {
     "data": {
      "text/html": [
       "<pre>Read 4729684 lines. Lines per second: 716466</pre>"
      ],
      "text/plain": [
       "Read 4729684 lines. Lines per second: 716466"
      ]
     },
     "metadata": {},
     "output_type": "display_data"
    },
    {
     "data": {
      "text/html": [
       "<pre>Finished parsing file C:\\Users\\xzach\\GitHub\\SMU\\MSDS 7333 - Quantifying the World\\Unit 14 Case Study\\Data\\1997.csv</pre>"
      ],
      "text/plain": [
       "Finished parsing file C:\\Users\\xzach\\GitHub\\SMU\\MSDS 7333 - Quantifying the World\\Unit 14 Case Study\\Data\\1997.csv"
      ]
     },
     "metadata": {},
     "output_type": "display_data"
    },
    {
     "data": {
      "text/html": [
       "<pre>Parsing completed. Parsed 5411843 lines in 7.36242 secs.</pre>"
      ],
      "text/plain": [
       "Parsing completed. Parsed 5411843 lines in 7.36242 secs."
      ]
     },
     "metadata": {},
     "output_type": "display_data"
    },
    {
     "name": "stdout",
     "output_type": "stream",
     "text": [
      "read 53336907 lines, reading next file 1998.csv\n"
     ]
    },
    {
     "data": {
      "text/html": [
       "<pre>Read 2629594 lines. Lines per second: 678403</pre>"
      ],
      "text/plain": [
       "Read 2629594 lines. Lines per second: 678403"
      ]
     },
     "metadata": {},
     "output_type": "display_data"
    },
    {
     "data": {
      "text/html": [
       "<pre>Finished parsing file C:\\Users\\xzach\\GitHub\\SMU\\MSDS 7333 - Quantifying the World\\Unit 14 Case Study\\Data\\1998.csv</pre>"
      ],
      "text/plain": [
       "Finished parsing file C:\\Users\\xzach\\GitHub\\SMU\\MSDS 7333 - Quantifying the World\\Unit 14 Case Study\\Data\\1998.csv"
      ]
     },
     "metadata": {},
     "output_type": "display_data"
    },
    {
     "data": {
      "text/html": [
       "<pre>Parsing completed. Parsed 5384721 lines in 7.44581 secs.</pre>"
      ],
      "text/plain": [
       "Parsing completed. Parsed 5384721 lines in 7.44581 secs."
      ]
     },
     "metadata": {},
     "output_type": "display_data"
    },
    {
     "name": "stdout",
     "output_type": "stream",
     "text": [
      "read 58721628 lines, reading next file 1999.csv\n"
     ]
    },
    {
     "data": {
      "text/html": [
       "<pre>Read 524911 lines. Lines per second: 403014</pre>"
      ],
      "text/plain": [
       "Read 524911 lines. Lines per second: 403014"
      ]
     },
     "metadata": {},
     "output_type": "display_data"
    },
    {
     "data": {
      "text/html": [
       "<pre>Read 4723791 lines. Lines per second: 674643</pre>"
      ],
      "text/plain": [
       "Read 4723791 lines. Lines per second: 674643"
      ]
     },
     "metadata": {},
     "output_type": "display_data"
    },
    {
     "data": {
      "text/html": [
       "<pre>Finished parsing file C:\\Users\\xzach\\GitHub\\SMU\\MSDS 7333 - Quantifying the World\\Unit 14 Case Study\\Data\\1999.csv</pre>"
      ],
      "text/plain": [
       "Finished parsing file C:\\Users\\xzach\\GitHub\\SMU\\MSDS 7333 - Quantifying the World\\Unit 14 Case Study\\Data\\1999.csv"
      ]
     },
     "metadata": {},
     "output_type": "display_data"
    },
    {
     "data": {
      "text/html": [
       "<pre>Parsing completed. Parsed 5527884 lines in 7.98249 secs.</pre>"
      ],
      "text/plain": [
       "Parsing completed. Parsed 5527884 lines in 7.98249 secs."
      ]
     },
     "metadata": {},
     "output_type": "display_data"
    },
    {
     "name": "stdout",
     "output_type": "stream",
     "text": [
      "read 64249512 lines, reading next file 2000.csv\n"
     ]
    },
    {
     "data": {
      "text/html": [
       "<pre>Read 2096226 lines. Lines per second: 610881</pre>"
      ],
      "text/plain": [
       "Read 2096226 lines. Lines per second: 610881"
      ]
     },
     "metadata": {},
     "output_type": "display_data"
    },
    {
     "data": {
      "text/html": [
       "<pre>Finished parsing file C:\\Users\\xzach\\GitHub\\SMU\\MSDS 7333 - Quantifying the World\\Unit 14 Case Study\\Data\\2000.csv</pre>"
      ],
      "text/plain": [
       "Finished parsing file C:\\Users\\xzach\\GitHub\\SMU\\MSDS 7333 - Quantifying the World\\Unit 14 Case Study\\Data\\2000.csv"
      ]
     },
     "metadata": {},
     "output_type": "display_data"
    },
    {
     "data": {
      "text/html": [
       "<pre>Parsing completed. Parsed 5683047 lines in 8.32111 secs.</pre>"
      ],
      "text/plain": [
       "Parsing completed. Parsed 5683047 lines in 8.32111 secs."
      ]
     },
     "metadata": {},
     "output_type": "display_data"
    },
    {
     "name": "stdout",
     "output_type": "stream",
     "text": [
      "read 69932559 lines, reading next file 2001.csv\n"
     ]
    },
    {
     "data": {
      "text/html": [
       "<pre>Read 522034 lines. Lines per second: 427014</pre>"
      ],
      "text/plain": [
       "Read 522034 lines. Lines per second: 427014"
      ]
     },
     "metadata": {},
     "output_type": "display_data"
    },
    {
     "data": {
      "text/html": [
       "<pre>Read 4701550 lines. Lines per second: 695563</pre>"
      ],
      "text/plain": [
       "Read 4701550 lines. Lines per second: 695563"
      ]
     },
     "metadata": {},
     "output_type": "display_data"
    },
    {
     "data": {
      "text/html": [
       "<pre>Finished parsing file C:\\Users\\xzach\\GitHub\\SMU\\MSDS 7333 - Quantifying the World\\Unit 14 Case Study\\Data\\2001.csv</pre>"
      ],
      "text/plain": [
       "Finished parsing file C:\\Users\\xzach\\GitHub\\SMU\\MSDS 7333 - Quantifying the World\\Unit 14 Case Study\\Data\\2001.csv"
      ]
     },
     "metadata": {},
     "output_type": "display_data"
    },
    {
     "data": {
      "text/html": [
       "<pre>Parsing completed. Parsed 5967780 lines in 8.3997 secs.</pre>"
      ],
      "text/plain": [
       "Parsing completed. Parsed 5967780 lines in 8.3997 secs."
      ]
     },
     "metadata": {},
     "output_type": "display_data"
    },
    {
     "name": "stdout",
     "output_type": "stream",
     "text": [
      "read 75900339 lines, reading next file 2002.csv\n"
     ]
    },
    {
     "data": {
      "text/html": [
       "<pre>Read 1567021 lines. Lines per second: 606395</pre>"
      ],
      "text/plain": [
       "Read 1567021 lines. Lines per second: 606395"
      ]
     },
     "metadata": {},
     "output_type": "display_data"
    },
    {
     "data": {
      "text/html": [
       "<pre>Finished parsing file C:\\Users\\xzach\\GitHub\\SMU\\MSDS 7333 - Quantifying the World\\Unit 14 Case Study\\Data\\2002.csv</pre>"
      ],
      "text/plain": [
       "Finished parsing file C:\\Users\\xzach\\GitHub\\SMU\\MSDS 7333 - Quantifying the World\\Unit 14 Case Study\\Data\\2002.csv"
      ]
     },
     "metadata": {},
     "output_type": "display_data"
    },
    {
     "data": {
      "text/html": [
       "<pre>Parsing completed. Parsed 5271359 lines in 7.1604 secs.</pre>"
      ],
      "text/plain": [
       "Parsing completed. Parsed 5271359 lines in 7.1604 secs."
      ]
     },
     "metadata": {},
     "output_type": "display_data"
    },
    {
     "name": "stdout",
     "output_type": "stream",
     "text": [
      "read 81171698 lines, reading next file 2003.csv\n"
     ]
    },
    {
     "data": {
      "text/html": [
       "<pre>Read 522593 lines. Lines per second: 411537</pre>"
      ],
      "text/plain": [
       "Read 522593 lines. Lines per second: 411537"
      ]
     },
     "metadata": {},
     "output_type": "display_data"
    },
    {
     "data": {
      "text/html": [
       "<pre>Read 4290310 lines. Lines per second: 626027</pre>"
      ],
      "text/plain": [
       "Read 4290310 lines. Lines per second: 626027"
      ]
     },
     "metadata": {},
     "output_type": "display_data"
    },
    {
     "data": {
      "text/html": [
       "<pre>Finished parsing file C:\\Users\\xzach\\GitHub\\SMU\\MSDS 7333 - Quantifying the World\\Unit 14 Case Study\\Data\\2003.csv</pre>"
      ],
      "text/plain": [
       "Finished parsing file C:\\Users\\xzach\\GitHub\\SMU\\MSDS 7333 - Quantifying the World\\Unit 14 Case Study\\Data\\2003.csv"
      ]
     },
     "metadata": {},
     "output_type": "display_data"
    },
    {
     "data": {
      "text/html": [
       "<pre>Parsing completed. Parsed 6488540 lines in 10.0365 secs.</pre>"
      ],
      "text/plain": [
       "Parsing completed. Parsed 6488540 lines in 10.0365 secs."
      ]
     },
     "metadata": {},
     "output_type": "display_data"
    },
    {
     "name": "stdout",
     "output_type": "stream",
     "text": [
      "read 87660238 lines, reading next file 2004.csv\n"
     ]
    },
    {
     "data": {
      "text/html": [
       "<pre>Read 560245 lines. Lines per second: 374762</pre>"
      ],
      "text/plain": [
       "Read 560245 lines. Lines per second: 374762"
      ]
     },
     "metadata": {},
     "output_type": "display_data"
    },
    {
     "data": {
      "text/html": [
       "<pre>Read 3917196 lines. Lines per second: 608654</pre>"
      ],
      "text/plain": [
       "Read 3917196 lines. Lines per second: 608654"
      ]
     },
     "metadata": {},
     "output_type": "display_data"
    },
    {
     "data": {
      "text/html": [
       "<pre>Finished parsing file C:\\Users\\xzach\\GitHub\\SMU\\MSDS 7333 - Quantifying the World\\Unit 14 Case Study\\Data\\2004.csv</pre>"
      ],
      "text/plain": [
       "Finished parsing file C:\\Users\\xzach\\GitHub\\SMU\\MSDS 7333 - Quantifying the World\\Unit 14 Case Study\\Data\\2004.csv"
      ]
     },
     "metadata": {},
     "output_type": "display_data"
    },
    {
     "data": {
      "text/html": [
       "<pre>Parsing completed. Parsed 7129270 lines in 11.077 secs.</pre>"
      ],
      "text/plain": [
       "Parsing completed. Parsed 7129270 lines in 11.077 secs."
      ]
     },
     "metadata": {},
     "output_type": "display_data"
    },
    {
     "name": "stdout",
     "output_type": "stream",
     "text": [
      "read 94789508 lines, reading next file 2005.csv\n"
     ]
    },
    {
     "data": {
      "text/html": [
       "<pre>Read 560141 lines. Lines per second: 364725</pre>"
      ],
      "text/plain": [
       "Read 560141 lines. Lines per second: 364725"
      ]
     },
     "metadata": {},
     "output_type": "display_data"
    },
    {
     "data": {
      "text/html": [
       "<pre>Read 3917795 lines. Lines per second: 580723</pre>"
      ],
      "text/plain": [
       "Read 3917795 lines. Lines per second: 580723"
      ]
     },
     "metadata": {},
     "output_type": "display_data"
    },
    {
     "data": {
      "text/html": [
       "<pre>Finished parsing file C:\\Users\\xzach\\GitHub\\SMU\\MSDS 7333 - Quantifying the World\\Unit 14 Case Study\\Data\\2005.csv</pre>"
      ],
      "text/plain": [
       "Finished parsing file C:\\Users\\xzach\\GitHub\\SMU\\MSDS 7333 - Quantifying the World\\Unit 14 Case Study\\Data\\2005.csv"
      ]
     },
     "metadata": {},
     "output_type": "display_data"
    },
    {
     "data": {
      "text/html": [
       "<pre>Parsing completed. Parsed 7140596 lines in 11.4986 secs.</pre>"
      ],
      "text/plain": [
       "Parsing completed. Parsed 7140596 lines in 11.4986 secs."
      ]
     },
     "metadata": {},
     "output_type": "display_data"
    },
    {
     "name": "stdout",
     "output_type": "stream",
     "text": [
      "read 101930104 lines, reading next file 2006.csv\n"
     ]
    },
    {
     "data": {
      "text/html": [
       "<pre>Read 558959 lines. Lines per second: 377768</pre>"
      ],
      "text/plain": [
       "Read 558959 lines. Lines per second: 377768"
      ]
     },
     "metadata": {},
     "output_type": "display_data"
    },
    {
     "data": {
      "text/html": [
       "<pre>Read 4471997 lines. Lines per second: 618208</pre>"
      ],
      "text/plain": [
       "Read 4471997 lines. Lines per second: 618208"
      ]
     },
     "metadata": {},
     "output_type": "display_data"
    },
    {
     "data": {
      "text/html": [
       "<pre>Finished parsing file C:\\Users\\xzach\\GitHub\\SMU\\MSDS 7333 - Quantifying the World\\Unit 14 Case Study\\Data\\2006.csv</pre>"
      ],
      "text/plain": [
       "Finished parsing file C:\\Users\\xzach\\GitHub\\SMU\\MSDS 7333 - Quantifying the World\\Unit 14 Case Study\\Data\\2006.csv"
      ]
     },
     "metadata": {},
     "output_type": "display_data"
    },
    {
     "data": {
      "text/html": [
       "<pre>Parsing completed. Parsed 7141922 lines in 11.0712 secs.</pre>"
      ],
      "text/plain": [
       "Parsing completed. Parsed 7141922 lines in 11.0712 secs."
      ]
     },
     "metadata": {},
     "output_type": "display_data"
    },
    {
     "name": "stdout",
     "output_type": "stream",
     "text": [
      "read 109072026 lines, reading next file 2007.csv\n"
     ]
    },
    {
     "data": {
      "text/html": [
       "<pre>Read 559204 lines. Lines per second: 381922</pre>"
      ],
      "text/plain": [
       "Read 559204 lines. Lines per second: 381922"
      ]
     },
     "metadata": {},
     "output_type": "display_data"
    },
    {
     "data": {
      "text/html": [
       "<pre>Read 4462770 lines. Lines per second: 619386</pre>"
      ],
      "text/plain": [
       "Read 4462770 lines. Lines per second: 619386"
      ]
     },
     "metadata": {},
     "output_type": "display_data"
    },
    {
     "data": {
      "text/html": [
       "<pre>Finished parsing file C:\\Users\\xzach\\GitHub\\SMU\\MSDS 7333 - Quantifying the World\\Unit 14 Case Study\\Data\\2007.csv</pre>"
      ],
      "text/plain": [
       "Finished parsing file C:\\Users\\xzach\\GitHub\\SMU\\MSDS 7333 - Quantifying the World\\Unit 14 Case Study\\Data\\2007.csv"
      ]
     },
     "metadata": {},
     "output_type": "display_data"
    },
    {
     "data": {
      "text/html": [
       "<pre>Parsing completed. Parsed 7453215 lines in 11.4671 secs.</pre>"
      ],
      "text/plain": [
       "Parsing completed. Parsed 7453215 lines in 11.4671 secs."
      ]
     },
     "metadata": {},
     "output_type": "display_data"
    },
    {
     "name": "stdout",
     "output_type": "stream",
     "text": [
      "read 116525241 lines, reading next file 2008.csv\n"
     ]
    },
    {
     "data": {
      "text/html": [
       "<pre>Read 535634 lines. Lines per second: 364309</pre>"
      ],
      "text/plain": [
       "Read 535634 lines. Lines per second: 364309"
      ]
     },
     "metadata": {},
     "output_type": "display_data"
    },
    {
     "data": {
      "text/html": [
       "<pre>Read 3746137 lines. Lines per second: 577631</pre>"
      ],
      "text/plain": [
       "Read 3746137 lines. Lines per second: 577631"
      ]
     },
     "metadata": {},
     "output_type": "display_data"
    },
    {
     "data": {
      "text/html": [
       "<pre>Read 6931041 lines. Lines per second: 586206</pre>"
      ],
      "text/plain": [
       "Read 6931041 lines. Lines per second: 586206"
      ]
     },
     "metadata": {},
     "output_type": "display_data"
    },
    {
     "data": {
      "text/html": [
       "<pre>Finished parsing file C:\\Users\\xzach\\GitHub\\SMU\\MSDS 7333 - Quantifying the World\\Unit 14 Case Study\\Data\\2008.csv</pre>"
      ],
      "text/plain": [
       "Finished parsing file C:\\Users\\xzach\\GitHub\\SMU\\MSDS 7333 - Quantifying the World\\Unit 14 Case Study\\Data\\2008.csv"
      ]
     },
     "metadata": {},
     "output_type": "display_data"
    },
    {
     "data": {
      "text/html": [
       "<pre>Parsing completed. Parsed 7009728 lines in 11.973 secs.</pre>"
      ],
      "text/plain": [
       "Parsing completed. Parsed 7009728 lines in 11.973 secs."
      ]
     },
     "metadata": {},
     "output_type": "display_data"
    },
    {
     "name": "stdout",
     "output_type": "stream",
     "text": [
      "It took 196.02 seconds to concatenate the memory mapped file\n",
      "Saving... took 11.71 seconds Shape of SFrame is (123534969, 29)\n"
     ]
    }
   ],
   "source": [
    "column_hints=[int,int,int,int,int,int,int,int,str,int,str,int,int,int,int,int,str,str,int,int,int,int,str,int,int,int,int,int,int]\n",
    "\n",
    "t = time.time()\n",
    "sf = gl.SFrame()\n",
    "\n",
    "for year in range(1987,2009):\n",
    "    print 'read %d lines, reading next file %d.csv'%(sf.shape[0],year)\n",
    "    sys.stdout.flush()\n",
    "    sftmp = gl.SFrame.read_csv('Data/%d.csv'%(year),column_type_hints=column_hints)\n",
    "    sf = sf.append(sftmp)\n",
    "\n",
    "print 'It took %.2f seconds to concatenate the memory mapped file'%(time.time()-t)\n",
    "\n",
    "t = time.time()\n",
    "print 'Saving...',\n",
    "sf.save('Data/sframe_directory')\n",
    "print 'took %.2f seconds'%(time.time()-t),'Shape of SFrame is',sf.shape"
   ]
  },
  {
   "cell_type": "markdown",
   "metadata": {},
   "source": [
    "We were able to concatenate the data from all of the csv files into one SFrame in a little over 3 minutes.  We then saved a compressed binary version of the SFrame in about 11 seconds."
   ]
  },
  {
   "cell_type": "code",
   "execution_count": 1,
   "metadata": {},
   "outputs": [
    {
     "name": "stdout",
     "output_type": "stream",
     "text": [
      "This non-commercial license of GraphLab Create for academic use is assigned to zlbrown@smu.edu and will expire on August 02, 2018.\n"
     ]
    },
    {
     "name": "stderr",
     "output_type": "stream",
     "text": [
      "[INFO] graphlab.cython.cy_server: GraphLab Create v2.1 started. Logging: C:\\Users\\xzach\\AppData\\Local\\Temp\\graphlab_server_1502325328.log.0\n"
     ]
    }
   ],
   "source": [
    "# CONVENIENCE BLOCK FOR THOSE LOADING FROM DISK HERE\n",
    "\n",
    "# If you have already run the notebook above and just want to load up the data\n",
    "# then you can reload the SFrame here\n",
    "import graphlab as gl\n",
    "\n",
    "sf = gl.load_sframe('Data/sframe_directory')"
   ]
  },
  {
   "cell_type": "markdown",
   "metadata": {},
   "source": [
    "### Which airports are most likely to be delayed flying out of or into?"
   ]
  },
  {
   "cell_type": "markdown",
   "metadata": {},
   "source": [
    "The first area we will analyze is delays by airport.  We will examine which origin airports are most likely to have departure delays and which destination airports are most likely to have arrival delays.\n",
    "\n",
    "Since the data is to big to store in memory all at once, the split-apply-combine method will be used.  In graphlab this is done using the groupby function.  If we group by the origin airport and use the count aggregator, an SFrame containing the counts of departures for each airport."
   ]
  },
  {
   "cell_type": "code",
   "execution_count": 2,
   "metadata": {},
   "outputs": [
    {
     "name": "stdout",
     "output_type": "stream",
     "text": [
      "Wall time: 9.3 s\n"
     ]
    },
    {
     "data": {
      "text/html": [
       "<div style=\"max-height:1000px;max-width:1500px;overflow:auto;\"><table frame=\"box\" rules=\"cols\">\n",
       "    <tr>\n",
       "        <th style=\"padding-left: 1em; padding-right: 1em; text-align: center\">Origin</th>\n",
       "        <th style=\"padding-left: 1em; padding-right: 1em; text-align: center\">num_flights</th>\n",
       "    </tr>\n",
       "    <tr>\n",
       "        <td style=\"padding-left: 1em; padding-right: 1em; text-align: center; vertical-align: top\">ABY</td>\n",
       "        <td style=\"padding-left: 1em; padding-right: 1em; text-align: center; vertical-align: top\">8035</td>\n",
       "    </tr>\n",
       "    <tr>\n",
       "        <td style=\"padding-left: 1em; padding-right: 1em; text-align: center; vertical-align: top\">ATL</td>\n",
       "        <td style=\"padding-left: 1em; padding-right: 1em; text-align: center; vertical-align: top\">6100953</td>\n",
       "    </tr>\n",
       "    <tr>\n",
       "        <td style=\"padding-left: 1em; padding-right: 1em; text-align: center; vertical-align: top\">TEX</td>\n",
       "        <td style=\"padding-left: 1em; padding-right: 1em; text-align: center; vertical-align: top\">683</td>\n",
       "    </tr>\n",
       "    <tr>\n",
       "        <td style=\"padding-left: 1em; padding-right: 1em; text-align: center; vertical-align: top\">VLD</td>\n",
       "        <td style=\"padding-left: 1em; padding-right: 1em; text-align: center; vertical-align: top\">7300</td>\n",
       "    </tr>\n",
       "    <tr>\n",
       "        <td style=\"padding-left: 1em; padding-right: 1em; text-align: center; vertical-align: top\">CHS</td>\n",
       "        <td style=\"padding-left: 1em; padding-right: 1em; text-align: center; vertical-align: top\">222491</td>\n",
       "    </tr>\n",
       "    <tr>\n",
       "        <td style=\"padding-left: 1em; padding-right: 1em; text-align: center; vertical-align: top\">MKK</td>\n",
       "        <td style=\"padding-left: 1em; padding-right: 1em; text-align: center; vertical-align: top\">289</td>\n",
       "    </tr>\n",
       "    <tr>\n",
       "        <td style=\"padding-left: 1em; padding-right: 1em; text-align: center; vertical-align: top\">ROR</td>\n",
       "        <td style=\"padding-left: 1em; padding-right: 1em; text-align: center; vertical-align: top\">2228</td>\n",
       "    </tr>\n",
       "    <tr>\n",
       "        <td style=\"padding-left: 1em; padding-right: 1em; text-align: center; vertical-align: top\">VCT</td>\n",
       "        <td style=\"padding-left: 1em; padding-right: 1em; text-align: center; vertical-align: top\">2445</td>\n",
       "    </tr>\n",
       "    <tr>\n",
       "        <td style=\"padding-left: 1em; padding-right: 1em; text-align: center; vertical-align: top\">ITH</td>\n",
       "        <td style=\"padding-left: 1em; padding-right: 1em; text-align: center; vertical-align: top\">18397</td>\n",
       "    </tr>\n",
       "    <tr>\n",
       "        <td style=\"padding-left: 1em; padding-right: 1em; text-align: center; vertical-align: top\">LAW</td>\n",
       "        <td style=\"padding-left: 1em; padding-right: 1em; text-align: center; vertical-align: top\">18019</td>\n",
       "    </tr>\n",
       "</table>\n",
       "[347 rows x 2 columns]<br/>Note: Only the head of the SFrame is printed.<br/>You can use print_rows(num_rows=m, num_columns=n) to print more rows and columns.\n",
       "</div>"
      ],
      "text/plain": [
       "Columns:\n",
       "\tOrigin\tstr\n",
       "\tnum_flights\tint\n",
       "\n",
       "Rows: 347\n",
       "\n",
       "Data:\n",
       "+--------+-------------+\n",
       "| Origin | num_flights |\n",
       "+--------+-------------+\n",
       "|  ABY   |     8035    |\n",
       "|  ATL   |   6100953   |\n",
       "|  TEX   |     683     |\n",
       "|  VLD   |     7300    |\n",
       "|  CHS   |    222491   |\n",
       "|  MKK   |     289     |\n",
       "|  ROR   |     2228    |\n",
       "|  VCT   |     2445    |\n",
       "|  ITH   |    18397    |\n",
       "|  LAW   |    18019    |\n",
       "+--------+-------------+\n",
       "[347 rows x 2 columns]\n",
       "Note: Only the head of the SFrame is printed.\n",
       "You can use print_rows(num_rows=m, num_columns=n) to print more rows and columns."
      ]
     },
     "execution_count": 2,
     "metadata": {},
     "output_type": "execute_result"
    }
   ],
   "source": [
    "%time sf_counts = sf.groupby('Origin', {'num_flights':gl.aggregate.COUNT()})\n",
    "sf_counts"
   ]
  },
  {
   "cell_type": "markdown",
   "metadata": {},
   "source": [
    "Next let's create new indicator columns for departure delays, arrival delays, and overall delays.  They will be set to 1 if there was a delay and 0 if there wasn't."
   ]
  },
  {
   "cell_type": "code",
   "execution_count": 3,
   "metadata": {},
   "outputs": [
    {
     "data": {
      "text/html": [
       "<div style=\"max-height:1000px;max-width:1500px;overflow:auto;\"><table frame=\"box\" rules=\"cols\">\n",
       "    <tr>\n",
       "        <th style=\"padding-left: 1em; padding-right: 1em; text-align: center\">DepTime</th>\n",
       "        <th style=\"padding-left: 1em; padding-right: 1em; text-align: center\">CRSDepTime</th>\n",
       "        <th style=\"padding-left: 1em; padding-right: 1em; text-align: center\">DepDelayInd</th>\n",
       "        <th style=\"padding-left: 1em; padding-right: 1em; text-align: center\">ArrTime</th>\n",
       "        <th style=\"padding-left: 1em; padding-right: 1em; text-align: center\">CRSArrTime</th>\n",
       "        <th style=\"padding-left: 1em; padding-right: 1em; text-align: center\">ArrDelayInd</th>\n",
       "        <th style=\"padding-left: 1em; padding-right: 1em; text-align: center\">DelayInd</th>\n",
       "    </tr>\n",
       "    <tr>\n",
       "        <td style=\"padding-left: 1em; padding-right: 1em; text-align: center; vertical-align: top\">741</td>\n",
       "        <td style=\"padding-left: 1em; padding-right: 1em; text-align: center; vertical-align: top\">730</td>\n",
       "        <td style=\"padding-left: 1em; padding-right: 1em; text-align: center; vertical-align: top\">1</td>\n",
       "        <td style=\"padding-left: 1em; padding-right: 1em; text-align: center; vertical-align: top\">912</td>\n",
       "        <td style=\"padding-left: 1em; padding-right: 1em; text-align: center; vertical-align: top\">849</td>\n",
       "        <td style=\"padding-left: 1em; padding-right: 1em; text-align: center; vertical-align: top\">1</td>\n",
       "        <td style=\"padding-left: 1em; padding-right: 1em; text-align: center; vertical-align: top\">1</td>\n",
       "    </tr>\n",
       "    <tr>\n",
       "        <td style=\"padding-left: 1em; padding-right: 1em; text-align: center; vertical-align: top\">729</td>\n",
       "        <td style=\"padding-left: 1em; padding-right: 1em; text-align: center; vertical-align: top\">730</td>\n",
       "        <td style=\"padding-left: 1em; padding-right: 1em; text-align: center; vertical-align: top\">0</td>\n",
       "        <td style=\"padding-left: 1em; padding-right: 1em; text-align: center; vertical-align: top\">903</td>\n",
       "        <td style=\"padding-left: 1em; padding-right: 1em; text-align: center; vertical-align: top\">849</td>\n",
       "        <td style=\"padding-left: 1em; padding-right: 1em; text-align: center; vertical-align: top\">1</td>\n",
       "        <td style=\"padding-left: 1em; padding-right: 1em; text-align: center; vertical-align: top\">1</td>\n",
       "    </tr>\n",
       "    <tr>\n",
       "        <td style=\"padding-left: 1em; padding-right: 1em; text-align: center; vertical-align: top\">741</td>\n",
       "        <td style=\"padding-left: 1em; padding-right: 1em; text-align: center; vertical-align: top\">730</td>\n",
       "        <td style=\"padding-left: 1em; padding-right: 1em; text-align: center; vertical-align: top\">1</td>\n",
       "        <td style=\"padding-left: 1em; padding-right: 1em; text-align: center; vertical-align: top\">918</td>\n",
       "        <td style=\"padding-left: 1em; padding-right: 1em; text-align: center; vertical-align: top\">849</td>\n",
       "        <td style=\"padding-left: 1em; padding-right: 1em; text-align: center; vertical-align: top\">1</td>\n",
       "        <td style=\"padding-left: 1em; padding-right: 1em; text-align: center; vertical-align: top\">1</td>\n",
       "    </tr>\n",
       "    <tr>\n",
       "        <td style=\"padding-left: 1em; padding-right: 1em; text-align: center; vertical-align: top\">729</td>\n",
       "        <td style=\"padding-left: 1em; padding-right: 1em; text-align: center; vertical-align: top\">730</td>\n",
       "        <td style=\"padding-left: 1em; padding-right: 1em; text-align: center; vertical-align: top\">0</td>\n",
       "        <td style=\"padding-left: 1em; padding-right: 1em; text-align: center; vertical-align: top\">847</td>\n",
       "        <td style=\"padding-left: 1em; padding-right: 1em; text-align: center; vertical-align: top\">849</td>\n",
       "        <td style=\"padding-left: 1em; padding-right: 1em; text-align: center; vertical-align: top\">0</td>\n",
       "        <td style=\"padding-left: 1em; padding-right: 1em; text-align: center; vertical-align: top\">0</td>\n",
       "    </tr>\n",
       "    <tr>\n",
       "        <td style=\"padding-left: 1em; padding-right: 1em; text-align: center; vertical-align: top\">749</td>\n",
       "        <td style=\"padding-left: 1em; padding-right: 1em; text-align: center; vertical-align: top\">730</td>\n",
       "        <td style=\"padding-left: 1em; padding-right: 1em; text-align: center; vertical-align: top\">1</td>\n",
       "        <td style=\"padding-left: 1em; padding-right: 1em; text-align: center; vertical-align: top\">922</td>\n",
       "        <td style=\"padding-left: 1em; padding-right: 1em; text-align: center; vertical-align: top\">849</td>\n",
       "        <td style=\"padding-left: 1em; padding-right: 1em; text-align: center; vertical-align: top\">1</td>\n",
       "        <td style=\"padding-left: 1em; padding-right: 1em; text-align: center; vertical-align: top\">1</td>\n",
       "    </tr>\n",
       "    <tr>\n",
       "        <td style=\"padding-left: 1em; padding-right: 1em; text-align: center; vertical-align: top\">728</td>\n",
       "        <td style=\"padding-left: 1em; padding-right: 1em; text-align: center; vertical-align: top\">730</td>\n",
       "        <td style=\"padding-left: 1em; padding-right: 1em; text-align: center; vertical-align: top\">0</td>\n",
       "        <td style=\"padding-left: 1em; padding-right: 1em; text-align: center; vertical-align: top\">848</td>\n",
       "        <td style=\"padding-left: 1em; padding-right: 1em; text-align: center; vertical-align: top\">849</td>\n",
       "        <td style=\"padding-left: 1em; padding-right: 1em; text-align: center; vertical-align: top\">0</td>\n",
       "        <td style=\"padding-left: 1em; padding-right: 1em; text-align: center; vertical-align: top\">0</td>\n",
       "    </tr>\n",
       "    <tr>\n",
       "        <td style=\"padding-left: 1em; padding-right: 1em; text-align: center; vertical-align: top\">728</td>\n",
       "        <td style=\"padding-left: 1em; padding-right: 1em; text-align: center; vertical-align: top\">730</td>\n",
       "        <td style=\"padding-left: 1em; padding-right: 1em; text-align: center; vertical-align: top\">0</td>\n",
       "        <td style=\"padding-left: 1em; padding-right: 1em; text-align: center; vertical-align: top\">852</td>\n",
       "        <td style=\"padding-left: 1em; padding-right: 1em; text-align: center; vertical-align: top\">849</td>\n",
       "        <td style=\"padding-left: 1em; padding-right: 1em; text-align: center; vertical-align: top\">1</td>\n",
       "        <td style=\"padding-left: 1em; padding-right: 1em; text-align: center; vertical-align: top\">1</td>\n",
       "    </tr>\n",
       "    <tr>\n",
       "        <td style=\"padding-left: 1em; padding-right: 1em; text-align: center; vertical-align: top\">731</td>\n",
       "        <td style=\"padding-left: 1em; padding-right: 1em; text-align: center; vertical-align: top\">730</td>\n",
       "        <td style=\"padding-left: 1em; padding-right: 1em; text-align: center; vertical-align: top\">1</td>\n",
       "        <td style=\"padding-left: 1em; padding-right: 1em; text-align: center; vertical-align: top\">902</td>\n",
       "        <td style=\"padding-left: 1em; padding-right: 1em; text-align: center; vertical-align: top\">849</td>\n",
       "        <td style=\"padding-left: 1em; padding-right: 1em; text-align: center; vertical-align: top\">1</td>\n",
       "        <td style=\"padding-left: 1em; padding-right: 1em; text-align: center; vertical-align: top\">1</td>\n",
       "    </tr>\n",
       "    <tr>\n",
       "        <td style=\"padding-left: 1em; padding-right: 1em; text-align: center; vertical-align: top\">744</td>\n",
       "        <td style=\"padding-left: 1em; padding-right: 1em; text-align: center; vertical-align: top\">730</td>\n",
       "        <td style=\"padding-left: 1em; padding-right: 1em; text-align: center; vertical-align: top\">1</td>\n",
       "        <td style=\"padding-left: 1em; padding-right: 1em; text-align: center; vertical-align: top\">908</td>\n",
       "        <td style=\"padding-left: 1em; padding-right: 1em; text-align: center; vertical-align: top\">849</td>\n",
       "        <td style=\"padding-left: 1em; padding-right: 1em; text-align: center; vertical-align: top\">1</td>\n",
       "        <td style=\"padding-left: 1em; padding-right: 1em; text-align: center; vertical-align: top\">1</td>\n",
       "    </tr>\n",
       "    <tr>\n",
       "        <td style=\"padding-left: 1em; padding-right: 1em; text-align: center; vertical-align: top\">729</td>\n",
       "        <td style=\"padding-left: 1em; padding-right: 1em; text-align: center; vertical-align: top\">730</td>\n",
       "        <td style=\"padding-left: 1em; padding-right: 1em; text-align: center; vertical-align: top\">0</td>\n",
       "        <td style=\"padding-left: 1em; padding-right: 1em; text-align: center; vertical-align: top\">851</td>\n",
       "        <td style=\"padding-left: 1em; padding-right: 1em; text-align: center; vertical-align: top\">849</td>\n",
       "        <td style=\"padding-left: 1em; padding-right: 1em; text-align: center; vertical-align: top\">1</td>\n",
       "        <td style=\"padding-left: 1em; padding-right: 1em; text-align: center; vertical-align: top\">1</td>\n",
       "    </tr>\n",
       "</table>\n",
       "[123534969 rows x 7 columns]<br/>Note: Only the head of the SFrame is printed.<br/>You can use print_rows(num_rows=m, num_columns=n) to print more rows and columns.\n",
       "</div>"
      ],
      "text/plain": [
       "Columns:\n",
       "\tDepTime\tint\n",
       "\tCRSDepTime\tint\n",
       "\tDepDelayInd\tint\n",
       "\tArrTime\tint\n",
       "\tCRSArrTime\tint\n",
       "\tArrDelayInd\tint\n",
       "\tDelayInd\tint\n",
       "\n",
       "Rows: 123534969\n",
       "\n",
       "Data:\n",
       "+---------+------------+-------------+---------+------------+-------------+----------+\n",
       "| DepTime | CRSDepTime | DepDelayInd | ArrTime | CRSArrTime | ArrDelayInd | DelayInd |\n",
       "+---------+------------+-------------+---------+------------+-------------+----------+\n",
       "|   741   |    730     |      1      |   912   |    849     |      1      |    1     |\n",
       "|   729   |    730     |      0      |   903   |    849     |      1      |    1     |\n",
       "|   741   |    730     |      1      |   918   |    849     |      1      |    1     |\n",
       "|   729   |    730     |      0      |   847   |    849     |      0      |    0     |\n",
       "|   749   |    730     |      1      |   922   |    849     |      1      |    1     |\n",
       "|   728   |    730     |      0      |   848   |    849     |      0      |    0     |\n",
       "|   728   |    730     |      0      |   852   |    849     |      1      |    1     |\n",
       "|   731   |    730     |      1      |   902   |    849     |      1      |    1     |\n",
       "|   744   |    730     |      1      |   908   |    849     |      1      |    1     |\n",
       "|   729   |    730     |      0      |   851   |    849     |      1      |    1     |\n",
       "+---------+------------+-------------+---------+------------+-------------+----------+\n",
       "[123534969 rows x 7 columns]\n",
       "Note: Only the head of the SFrame is printed.\n",
       "You can use print_rows(num_rows=m, num_columns=n) to print more rows and columns."
      ]
     },
     "execution_count": 3,
     "metadata": {},
     "output_type": "execute_result"
    }
   ],
   "source": [
    "sf['DepDelayInd'] = (sf['DepTime'] - sf['CRSDepTime']) > 0\n",
    "sf['ArrDelayInd'] = (sf['ArrTime'] - sf['CRSArrTime']) > 0\n",
    "sf['DelayInd'] = sf['DepDelayInd'] | sf['ArrDelayInd']\n",
    "sf['DepTime','CRSDepTime','DepDelayInd','ArrTime','CRSArrTime','ArrDelayInd','DelayInd']"
   ]
  },
  {
   "cell_type": "markdown",
   "metadata": {},
   "source": [
    "The counts of departure delays can be calculated in a similar fashion to the counts of departures. We will still group by the origin and count the number of flights, but we will also have a second aggregator to sum the departure delays.  The percentage of delayed departures is then calculated by dividing the number of departure delays by the number of departures."
   ]
  },
  {
   "cell_type": "code",
   "execution_count": 4,
   "metadata": {},
   "outputs": [
    {
     "data": {
      "text/html": [
       "<div style=\"max-height:1000px;max-width:1500px;overflow:auto;\"><table frame=\"box\" rules=\"cols\">\n",
       "    <tr>\n",
       "        <th style=\"padding-left: 1em; padding-right: 1em; text-align: center\">Origin</th>\n",
       "        <th style=\"padding-left: 1em; padding-right: 1em; text-align: center\">num_flights</th>\n",
       "        <th style=\"padding-left: 1em; padding-right: 1em; text-align: center\">dep_delays</th>\n",
       "        <th style=\"padding-left: 1em; padding-right: 1em; text-align: center\">DepDelayPCT</th>\n",
       "    </tr>\n",
       "    <tr>\n",
       "        <td style=\"padding-left: 1em; padding-right: 1em; text-align: center; vertical-align: top\">BFI</td>\n",
       "        <td style=\"padding-left: 1em; padding-right: 1em; text-align: center; vertical-align: top\">1</td>\n",
       "        <td style=\"padding-left: 1em; padding-right: 1em; text-align: center; vertical-align: top\">1</td>\n",
       "        <td style=\"padding-left: 1em; padding-right: 1em; text-align: center; vertical-align: top\">1.0</td>\n",
       "    </tr>\n",
       "    <tr>\n",
       "        <td style=\"padding-left: 1em; padding-right: 1em; text-align: center; vertical-align: top\">CYS</td>\n",
       "        <td style=\"padding-left: 1em; padding-right: 1em; text-align: center; vertical-align: top\">2</td>\n",
       "        <td style=\"padding-left: 1em; padding-right: 1em; text-align: center; vertical-align: top\">2</td>\n",
       "        <td style=\"padding-left: 1em; padding-right: 1em; text-align: center; vertical-align: top\">1.0</td>\n",
       "    </tr>\n",
       "    <tr>\n",
       "        <td style=\"padding-left: 1em; padding-right: 1em; text-align: center; vertical-align: top\">MKC</td>\n",
       "        <td style=\"padding-left: 1em; padding-right: 1em; text-align: center; vertical-align: top\">1</td>\n",
       "        <td style=\"padding-left: 1em; padding-right: 1em; text-align: center; vertical-align: top\">1</td>\n",
       "        <td style=\"padding-left: 1em; padding-right: 1em; text-align: center; vertical-align: top\">1.0</td>\n",
       "    </tr>\n",
       "    <tr>\n",
       "        <td style=\"padding-left: 1em; padding-right: 1em; text-align: center; vertical-align: top\">FMN</td>\n",
       "        <td style=\"padding-left: 1em; padding-right: 1em; text-align: center; vertical-align: top\">3</td>\n",
       "        <td style=\"padding-left: 1em; padding-right: 1em; text-align: center; vertical-align: top\">3</td>\n",
       "        <td style=\"padding-left: 1em; padding-right: 1em; text-align: center; vertical-align: top\">1.0</td>\n",
       "    </tr>\n",
       "    <tr>\n",
       "        <td style=\"padding-left: 1em; padding-right: 1em; text-align: center; vertical-align: top\">BFF</td>\n",
       "        <td style=\"padding-left: 1em; padding-right: 1em; text-align: center; vertical-align: top\">1</td>\n",
       "        <td style=\"padding-left: 1em; padding-right: 1em; text-align: center; vertical-align: top\">1</td>\n",
       "        <td style=\"padding-left: 1em; padding-right: 1em; text-align: center; vertical-align: top\">1.0</td>\n",
       "    </tr>\n",
       "    <tr>\n",
       "        <td style=\"padding-left: 1em; padding-right: 1em; text-align: center; vertical-align: top\">OGD</td>\n",
       "        <td style=\"padding-left: 1em; padding-right: 1em; text-align: center; vertical-align: top\">6</td>\n",
       "        <td style=\"padding-left: 1em; padding-right: 1em; text-align: center; vertical-align: top\">5</td>\n",
       "        <td style=\"padding-left: 1em; padding-right: 1em; text-align: center; vertical-align: top\">0.833333333333</td>\n",
       "    </tr>\n",
       "    <tr>\n",
       "        <td style=\"padding-left: 1em; padding-right: 1em; text-align: center; vertical-align: top\">PIR</td>\n",
       "        <td style=\"padding-left: 1em; padding-right: 1em; text-align: center; vertical-align: top\">10</td>\n",
       "        <td style=\"padding-left: 1em; padding-right: 1em; text-align: center; vertical-align: top\">8</td>\n",
       "        <td style=\"padding-left: 1em; padding-right: 1em; text-align: center; vertical-align: top\">0.8</td>\n",
       "    </tr>\n",
       "    <tr>\n",
       "        <td style=\"padding-left: 1em; padding-right: 1em; text-align: center; vertical-align: top\">ADK</td>\n",
       "        <td style=\"padding-left: 1em; padding-right: 1em; text-align: center; vertical-align: top\">589</td>\n",
       "        <td style=\"padding-left: 1em; padding-right: 1em; text-align: center; vertical-align: top\">336</td>\n",
       "        <td style=\"padding-left: 1em; padding-right: 1em; text-align: center; vertical-align: top\">0.570458404075</td>\n",
       "    </tr>\n",
       "    <tr>\n",
       "        <td style=\"padding-left: 1em; padding-right: 1em; text-align: center; vertical-align: top\">SOP</td>\n",
       "        <td style=\"padding-left: 1em; padding-right: 1em; text-align: center; vertical-align: top\">319</td>\n",
       "        <td style=\"padding-left: 1em; padding-right: 1em; text-align: center; vertical-align: top\">176</td>\n",
       "        <td style=\"padding-left: 1em; padding-right: 1em; text-align: center; vertical-align: top\">0.551724137931</td>\n",
       "    </tr>\n",
       "    <tr>\n",
       "        <td style=\"padding-left: 1em; padding-right: 1em; text-align: center; vertical-align: top\">ATL</td>\n",
       "        <td style=\"padding-left: 1em; padding-right: 1em; text-align: center; vertical-align: top\">6100953</td>\n",
       "        <td style=\"padding-left: 1em; padding-right: 1em; text-align: center; vertical-align: top\">3149775</td>\n",
       "        <td style=\"padding-left: 1em; padding-right: 1em; text-align: center; vertical-align: top\">0.516275899847</td>\n",
       "    </tr>\n",
       "</table>\n",
       "[347 rows x 4 columns]<br/>Note: Only the head of the SFrame is printed.<br/>You can use print_rows(num_rows=m, num_columns=n) to print more rows and columns.\n",
       "</div>"
      ],
      "text/plain": [
       "Columns:\n",
       "\tOrigin\tstr\n",
       "\tnum_flights\tint\n",
       "\tdep_delays\tint\n",
       "\tDepDelayPCT\tfloat\n",
       "\n",
       "Rows: 347\n",
       "\n",
       "Data:\n",
       "+--------+-------------+------------+----------------+\n",
       "| Origin | num_flights | dep_delays |  DepDelayPCT   |\n",
       "+--------+-------------+------------+----------------+\n",
       "|  BFI   |      1      |     1      |      1.0       |\n",
       "|  CYS   |      2      |     2      |      1.0       |\n",
       "|  MKC   |      1      |     1      |      1.0       |\n",
       "|  FMN   |      3      |     3      |      1.0       |\n",
       "|  BFF   |      1      |     1      |      1.0       |\n",
       "|  OGD   |      6      |     5      | 0.833333333333 |\n",
       "|  PIR   |      10     |     8      |      0.8       |\n",
       "|  ADK   |     589     |    336     | 0.570458404075 |\n",
       "|  SOP   |     319     |    176     | 0.551724137931 |\n",
       "|  ATL   |   6100953   |  3149775   | 0.516275899847 |\n",
       "+--------+-------------+------------+----------------+\n",
       "[347 rows x 4 columns]\n",
       "Note: Only the head of the SFrame is printed.\n",
       "You can use print_rows(num_rows=m, num_columns=n) to print more rows and columns."
      ]
     },
     "execution_count": 4,
     "metadata": {},
     "output_type": "execute_result"
    }
   ],
   "source": [
    "dep_delay_counts = sf.groupby('Origin', {'num_flights':gl.aggregate.COUNT()},\n",
    "                                    {'dep_delays':gl.aggregate.SUM('DepDelayInd')})\n",
    "dep_delay_counts['DepDelayPCT'] = dep_delay_counts['dep_delays'] / dep_delay_counts['num_flights']\n",
    "dep_delay_counts = dep_delay_counts.sort('DepDelayPCT',ascending=False)\n",
    "dep_delay_counts"
   ]
  },
  {
   "cell_type": "markdown",
   "metadata": {},
   "source": [
    "The majority of the airports with the higest percentage of departure delays only have a handful of flights.  We will filter out airports with fewer than 100 departures in order to only look at airports with flights on at least a semi-regular basis."
   ]
  },
  {
   "cell_type": "code",
   "execution_count": 5,
   "metadata": {},
   "outputs": [
    {
     "data": {
      "text/html": [
       "<div style=\"max-height:1000px;max-width:1500px;overflow:auto;\"><table frame=\"box\" rules=\"cols\">\n",
       "    <tr>\n",
       "        <th style=\"padding-left: 1em; padding-right: 1em; text-align: center\">Origin</th>\n",
       "        <th style=\"padding-left: 1em; padding-right: 1em; text-align: center\">num_flights</th>\n",
       "        <th style=\"padding-left: 1em; padding-right: 1em; text-align: center\">dep_delays</th>\n",
       "        <th style=\"padding-left: 1em; padding-right: 1em; text-align: center\">DepDelayPCT</th>\n",
       "    </tr>\n",
       "    <tr>\n",
       "        <td style=\"padding-left: 1em; padding-right: 1em; text-align: center; vertical-align: top\">ADK</td>\n",
       "        <td style=\"padding-left: 1em; padding-right: 1em; text-align: center; vertical-align: top\">589</td>\n",
       "        <td style=\"padding-left: 1em; padding-right: 1em; text-align: center; vertical-align: top\">336</td>\n",
       "        <td style=\"padding-left: 1em; padding-right: 1em; text-align: center; vertical-align: top\">0.570458404075</td>\n",
       "    </tr>\n",
       "    <tr>\n",
       "        <td style=\"padding-left: 1em; padding-right: 1em; text-align: center; vertical-align: top\">SOP</td>\n",
       "        <td style=\"padding-left: 1em; padding-right: 1em; text-align: center; vertical-align: top\">319</td>\n",
       "        <td style=\"padding-left: 1em; padding-right: 1em; text-align: center; vertical-align: top\">176</td>\n",
       "        <td style=\"padding-left: 1em; padding-right: 1em; text-align: center; vertical-align: top\">0.551724137931</td>\n",
       "    </tr>\n",
       "    <tr>\n",
       "        <td style=\"padding-left: 1em; padding-right: 1em; text-align: center; vertical-align: top\">ATL</td>\n",
       "        <td style=\"padding-left: 1em; padding-right: 1em; text-align: center; vertical-align: top\">6100953</td>\n",
       "        <td style=\"padding-left: 1em; padding-right: 1em; text-align: center; vertical-align: top\">3149775</td>\n",
       "        <td style=\"padding-left: 1em; padding-right: 1em; text-align: center; vertical-align: top\">0.516275899847</td>\n",
       "    </tr>\n",
       "    <tr>\n",
       "        <td style=\"padding-left: 1em; padding-right: 1em; text-align: center; vertical-align: top\">PIT</td>\n",
       "        <td style=\"padding-left: 1em; padding-right: 1em; text-align: center; vertical-align: top\">2072303</td>\n",
       "        <td style=\"padding-left: 1em; padding-right: 1em; text-align: center; vertical-align: top\">1055547</td>\n",
       "        <td style=\"padding-left: 1em; padding-right: 1em; text-align: center; vertical-align: top\">0.509359393872</td>\n",
       "    </tr>\n",
       "    <tr>\n",
       "        <td style=\"padding-left: 1em; padding-right: 1em; text-align: center; vertical-align: top\">CLT</td>\n",
       "        <td style=\"padding-left: 1em; padding-right: 1em; text-align: center; vertical-align: top\">2546039</td>\n",
       "        <td style=\"padding-left: 1em; padding-right: 1em; text-align: center; vertical-align: top\">1290432</td>\n",
       "        <td style=\"padding-left: 1em; padding-right: 1em; text-align: center; vertical-align: top\">0.506839054704</td>\n",
       "    </tr>\n",
       "    <tr>\n",
       "        <td style=\"padding-left: 1em; padding-right: 1em; text-align: center; vertical-align: top\">OTH</td>\n",
       "        <td style=\"padding-left: 1em; padding-right: 1em; text-align: center; vertical-align: top\">515</td>\n",
       "        <td style=\"padding-left: 1em; padding-right: 1em; text-align: center; vertical-align: top\">257</td>\n",
       "        <td style=\"padding-left: 1em; padding-right: 1em; text-align: center; vertical-align: top\">0.499029126214</td>\n",
       "    </tr>\n",
       "    <tr>\n",
       "        <td style=\"padding-left: 1em; padding-right: 1em; text-align: center; vertical-align: top\">ORD</td>\n",
       "        <td style=\"padding-left: 1em; padding-right: 1em; text-align: center; vertical-align: top\">6597442</td>\n",
       "        <td style=\"padding-left: 1em; padding-right: 1em; text-align: center; vertical-align: top\">3275528</td>\n",
       "        <td style=\"padding-left: 1em; padding-right: 1em; text-align: center; vertical-align: top\">0.496484546586</td>\n",
       "    </tr>\n",
       "    <tr>\n",
       "        <td style=\"padding-left: 1em; padding-right: 1em; text-align: center; vertical-align: top\">DFW</td>\n",
       "        <td style=\"padding-left: 1em; padding-right: 1em; text-align: center; vertical-align: top\">5710980</td>\n",
       "        <td style=\"padding-left: 1em; padding-right: 1em; text-align: center; vertical-align: top\">2832680</td>\n",
       "        <td style=\"padding-left: 1em; padding-right: 1em; text-align: center; vertical-align: top\">0.496005939436</td>\n",
       "    </tr>\n",
       "    <tr>\n",
       "        <td style=\"padding-left: 1em; padding-right: 1em; text-align: center; vertical-align: top\">PHL</td>\n",
       "        <td style=\"padding-left: 1em; padding-right: 1em; text-align: center; vertical-align: top\">2165049</td>\n",
       "        <td style=\"padding-left: 1em; padding-right: 1em; text-align: center; vertical-align: top\">1055684</td>\n",
       "        <td style=\"padding-left: 1em; padding-right: 1em; text-align: center; vertical-align: top\">0.487602820999</td>\n",
       "    </tr>\n",
       "    <tr>\n",
       "        <td style=\"padding-left: 1em; padding-right: 1em; text-align: center; vertical-align: top\">UCA</td>\n",
       "        <td style=\"padding-left: 1em; padding-right: 1em; text-align: center; vertical-align: top\">4639</td>\n",
       "        <td style=\"padding-left: 1em; padding-right: 1em; text-align: center; vertical-align: top\">2124</td>\n",
       "        <td style=\"padding-left: 1em; padding-right: 1em; text-align: center; vertical-align: top\">0.457857296831</td>\n",
       "    </tr>\n",
       "</table>\n",
       "[? rows x 4 columns]<br/>Note: Only the head of the SFrame is printed. This SFrame is lazily evaluated.<br/>You can use sf.materialize() to force materialization.\n",
       "</div>"
      ],
      "text/plain": [
       "Columns:\n",
       "\tOrigin\tstr\n",
       "\tnum_flights\tint\n",
       "\tdep_delays\tint\n",
       "\tDepDelayPCT\tfloat\n",
       "\n",
       "Rows: Unknown\n",
       "\n",
       "Data:\n",
       "+--------+-------------+------------+----------------+\n",
       "| Origin | num_flights | dep_delays |  DepDelayPCT   |\n",
       "+--------+-------------+------------+----------------+\n",
       "|  ADK   |     589     |    336     | 0.570458404075 |\n",
       "|  SOP   |     319     |    176     | 0.551724137931 |\n",
       "|  ATL   |   6100953   |  3149775   | 0.516275899847 |\n",
       "|  PIT   |   2072303   |  1055547   | 0.509359393872 |\n",
       "|  CLT   |   2546039   |  1290432   | 0.506839054704 |\n",
       "|  OTH   |     515     |    257     | 0.499029126214 |\n",
       "|  ORD   |   6597442   |  3275528   | 0.496484546586 |\n",
       "|  DFW   |   5710980   |  2832680   | 0.496005939436 |\n",
       "|  PHL   |   2165049   |  1055684   | 0.487602820999 |\n",
       "|  UCA   |     4639    |    2124    | 0.457857296831 |\n",
       "+--------+-------------+------------+----------------+\n",
       "[? rows x 4 columns]\n",
       "Note: Only the head of the SFrame is printed. This SFrame is lazily evaluated.\n",
       "You can use sf.materialize() to force materialization."
      ]
     },
     "execution_count": 5,
     "metadata": {},
     "output_type": "execute_result"
    }
   ],
   "source": [
    "dep_delay_counts[dep_delay_counts['num_flights'] > 100]"
   ]
  },
  {
   "cell_type": "markdown",
   "metadata": {},
   "source": [
    "The airport in Adak, Alaska has the highest percentage of departure delays at 57%.  The remaining airports with the top ten departure delay percentages are SOP, ATL, PIT, CLT, OTH, ORD, DFW, PHL, and UCA.\n",
    "\n",
    "Now, we will look at arrival delays.  We will need to group by destination to calculate this instead of grouping by origin."
   ]
  },
  {
   "cell_type": "code",
   "execution_count": 6,
   "metadata": {},
   "outputs": [
    {
     "data": {
      "text/html": [
       "<div style=\"max-height:1000px;max-width:1500px;overflow:auto;\"><table frame=\"box\" rules=\"cols\">\n",
       "    <tr>\n",
       "        <th style=\"padding-left: 1em; padding-right: 1em; text-align: center\">Dest</th>\n",
       "        <th style=\"padding-left: 1em; padding-right: 1em; text-align: center\">num_flights</th>\n",
       "        <th style=\"padding-left: 1em; padding-right: 1em; text-align: center\">arr_delays</th>\n",
       "        <th style=\"padding-left: 1em; padding-right: 1em; text-align: center\">ArrDelayPCT</th>\n",
       "    </tr>\n",
       "    <tr>\n",
       "        <td style=\"padding-left: 1em; padding-right: 1em; text-align: center; vertical-align: top\">SLE</td>\n",
       "        <td style=\"padding-left: 1em; padding-right: 1em; text-align: center; vertical-align: top\">880</td>\n",
       "        <td style=\"padding-left: 1em; padding-right: 1em; text-align: center; vertical-align: top\">637</td>\n",
       "        <td style=\"padding-left: 1em; padding-right: 1em; text-align: center; vertical-align: top\">0.723863636364</td>\n",
       "    </tr>\n",
       "    <tr>\n",
       "        <td style=\"padding-left: 1em; padding-right: 1em; text-align: center; vertical-align: top\">OTH</td>\n",
       "        <td style=\"padding-left: 1em; padding-right: 1em; text-align: center; vertical-align: top\">517</td>\n",
       "        <td style=\"padding-left: 1em; padding-right: 1em; text-align: center; vertical-align: top\">367</td>\n",
       "        <td style=\"padding-left: 1em; padding-right: 1em; text-align: center; vertical-align: top\">0.709864603482</td>\n",
       "    </tr>\n",
       "    <tr>\n",
       "        <td style=\"padding-left: 1em; padding-right: 1em; text-align: center; vertical-align: top\">ANI</td>\n",
       "        <td style=\"padding-left: 1em; padding-right: 1em; text-align: center; vertical-align: top\">472</td>\n",
       "        <td style=\"padding-left: 1em; padding-right: 1em; text-align: center; vertical-align: top\">334</td>\n",
       "        <td style=\"padding-left: 1em; padding-right: 1em; text-align: center; vertical-align: top\">0.707627118644</td>\n",
       "    </tr>\n",
       "    <tr>\n",
       "        <td style=\"padding-left: 1em; padding-right: 1em; text-align: center; vertical-align: top\">SOP</td>\n",
       "        <td style=\"padding-left: 1em; padding-right: 1em; text-align: center; vertical-align: top\">317</td>\n",
       "        <td style=\"padding-left: 1em; padding-right: 1em; text-align: center; vertical-align: top\">211</td>\n",
       "        <td style=\"padding-left: 1em; padding-right: 1em; text-align: center; vertical-align: top\">0.665615141956</td>\n",
       "    </tr>\n",
       "    <tr>\n",
       "        <td style=\"padding-left: 1em; padding-right: 1em; text-align: center; vertical-align: top\">TTN</td>\n",
       "        <td style=\"padding-left: 1em; padding-right: 1em; text-align: center; vertical-align: top\">1671</td>\n",
       "        <td style=\"padding-left: 1em; padding-right: 1em; text-align: center; vertical-align: top\">1039</td>\n",
       "        <td style=\"padding-left: 1em; padding-right: 1em; text-align: center; vertical-align: top\">0.621783363256</td>\n",
       "    </tr>\n",
       "    <tr>\n",
       "        <td style=\"padding-left: 1em; padding-right: 1em; text-align: center; vertical-align: top\">GST</td>\n",
       "        <td style=\"padding-left: 1em; padding-right: 1em; text-align: center; vertical-align: top\">1878</td>\n",
       "        <td style=\"padding-left: 1em; padding-right: 1em; text-align: center; vertical-align: top\">1096</td>\n",
       "        <td style=\"padding-left: 1em; padding-right: 1em; text-align: center; vertical-align: top\">0.583599574015</td>\n",
       "    </tr>\n",
       "    <tr>\n",
       "        <td style=\"padding-left: 1em; padding-right: 1em; text-align: center; vertical-align: top\">HHH</td>\n",
       "        <td style=\"padding-left: 1em; padding-right: 1em; text-align: center; vertical-align: top\">1833</td>\n",
       "        <td style=\"padding-left: 1em; padding-right: 1em; text-align: center; vertical-align: top\">1057</td>\n",
       "        <td style=\"padding-left: 1em; padding-right: 1em; text-align: center; vertical-align: top\">0.576650300055</td>\n",
       "    </tr>\n",
       "    <tr>\n",
       "        <td style=\"padding-left: 1em; padding-right: 1em; text-align: center; vertical-align: top\">AKN</td>\n",
       "        <td style=\"padding-left: 1em; padding-right: 1em; text-align: center; vertical-align: top\">6001</td>\n",
       "        <td style=\"padding-left: 1em; padding-right: 1em; text-align: center; vertical-align: top\">3376</td>\n",
       "        <td style=\"padding-left: 1em; padding-right: 1em; text-align: center; vertical-align: top\">0.562572904516</td>\n",
       "    </tr>\n",
       "    <tr>\n",
       "        <td style=\"padding-left: 1em; padding-right: 1em; text-align: center; vertical-align: top\">KTN</td>\n",
       "        <td style=\"padding-left: 1em; padding-right: 1em; text-align: center; vertical-align: top\">51618</td>\n",
       "        <td style=\"padding-left: 1em; padding-right: 1em; text-align: center; vertical-align: top\">28363</td>\n",
       "        <td style=\"padding-left: 1em; padding-right: 1em; text-align: center; vertical-align: top\">0.549478863962</td>\n",
       "    </tr>\n",
       "    <tr>\n",
       "        <td style=\"padding-left: 1em; padding-right: 1em; text-align: center; vertical-align: top\">DLG</td>\n",
       "        <td style=\"padding-left: 1em; padding-right: 1em; text-align: center; vertical-align: top\">4940</td>\n",
       "        <td style=\"padding-left: 1em; padding-right: 1em; text-align: center; vertical-align: top\">2704</td>\n",
       "        <td style=\"padding-left: 1em; padding-right: 1em; text-align: center; vertical-align: top\">0.547368421053</td>\n",
       "    </tr>\n",
       "</table>\n",
       "[? rows x 4 columns]<br/>Note: Only the head of the SFrame is printed. This SFrame is lazily evaluated.<br/>You can use sf.materialize() to force materialization.\n",
       "</div>"
      ],
      "text/plain": [
       "Columns:\n",
       "\tDest\tstr\n",
       "\tnum_flights\tint\n",
       "\tarr_delays\tint\n",
       "\tArrDelayPCT\tfloat\n",
       "\n",
       "Rows: Unknown\n",
       "\n",
       "Data:\n",
       "+------+-------------+------------+----------------+\n",
       "| Dest | num_flights | arr_delays |  ArrDelayPCT   |\n",
       "+------+-------------+------------+----------------+\n",
       "| SLE  |     880     |    637     | 0.723863636364 |\n",
       "| OTH  |     517     |    367     | 0.709864603482 |\n",
       "| ANI  |     472     |    334     | 0.707627118644 |\n",
       "| SOP  |     317     |    211     | 0.665615141956 |\n",
       "| TTN  |     1671    |    1039    | 0.621783363256 |\n",
       "| GST  |     1878    |    1096    | 0.583599574015 |\n",
       "| HHH  |     1833    |    1057    | 0.576650300055 |\n",
       "| AKN  |     6001    |    3376    | 0.562572904516 |\n",
       "| KTN  |    51618    |   28363    | 0.549478863962 |\n",
       "| DLG  |     4940    |    2704    | 0.547368421053 |\n",
       "+------+-------------+------------+----------------+\n",
       "[? rows x 4 columns]\n",
       "Note: Only the head of the SFrame is printed. This SFrame is lazily evaluated.\n",
       "You can use sf.materialize() to force materialization."
      ]
     },
     "execution_count": 6,
     "metadata": {},
     "output_type": "execute_result"
    }
   ],
   "source": [
    "arr_delay_counts = sf.groupby('Dest', {'num_flights':gl.aggregate.COUNT()},\n",
    "                                    {'arr_delays':gl.aggregate.SUM('ArrDelayInd')})\n",
    "arr_delay_counts['ArrDelayPCT'] = arr_delay_counts['arr_delays'] / arr_delay_counts['num_flights']\n",
    "arr_delay_counts = arr_delay_counts.sort('ArrDelayPCT',ascending=False)\n",
    "arr_delay_counts[arr_delay_counts['num_flights'] > 100]"
   ]
  },
  {
   "cell_type": "markdown",
   "metadata": {},
   "source": [
    "Southwest Municipal Airport in Salem, Oregon has the highest percentage of delayed arrivals at a rate of about 72%.  The other nine airports in the top ten highest percentages of delayed arrivals are OTH, ANI, SOP, TTN, GST, HHH, AKN, KTN, and DLG."
   ]
  },
  {
   "cell_type": "markdown",
   "metadata": {},
   "source": [
    "### Which flights with same origin and destination are most likely to be delayed?"
   ]
  },
  {
   "cell_type": "markdown",
   "metadata": {},
   "source": [
    "Next, we will determine which specific routes have the highest percentage of delays.  To do this, a new variable that contains both the origin and destination airports needs to be created."
   ]
  },
  {
   "cell_type": "code",
   "execution_count": 7,
   "metadata": {},
   "outputs": [
    {
     "data": {
      "text/html": [
       "<div style=\"max-height:1000px;max-width:1500px;overflow:auto;\"><table frame=\"box\" rules=\"cols\">\n",
       "    <tr>\n",
       "        <th style=\"padding-left: 1em; padding-right: 1em; text-align: center\">Origin</th>\n",
       "        <th style=\"padding-left: 1em; padding-right: 1em; text-align: center\">Dest</th>\n",
       "        <th style=\"padding-left: 1em; padding-right: 1em; text-align: center\">FlightRoute</th>\n",
       "    </tr>\n",
       "    <tr>\n",
       "        <td style=\"padding-left: 1em; padding-right: 1em; text-align: center; vertical-align: top\">SAN</td>\n",
       "        <td style=\"padding-left: 1em; padding-right: 1em; text-align: center; vertical-align: top\">SFO</td>\n",
       "        <td style=\"padding-left: 1em; padding-right: 1em; text-align: center; vertical-align: top\">SAN-SFO</td>\n",
       "    </tr>\n",
       "    <tr>\n",
       "        <td style=\"padding-left: 1em; padding-right: 1em; text-align: center; vertical-align: top\">SAN</td>\n",
       "        <td style=\"padding-left: 1em; padding-right: 1em; text-align: center; vertical-align: top\">SFO</td>\n",
       "        <td style=\"padding-left: 1em; padding-right: 1em; text-align: center; vertical-align: top\">SAN-SFO</td>\n",
       "    </tr>\n",
       "    <tr>\n",
       "        <td style=\"padding-left: 1em; padding-right: 1em; text-align: center; vertical-align: top\">SAN</td>\n",
       "        <td style=\"padding-left: 1em; padding-right: 1em; text-align: center; vertical-align: top\">SFO</td>\n",
       "        <td style=\"padding-left: 1em; padding-right: 1em; text-align: center; vertical-align: top\">SAN-SFO</td>\n",
       "    </tr>\n",
       "    <tr>\n",
       "        <td style=\"padding-left: 1em; padding-right: 1em; text-align: center; vertical-align: top\">SAN</td>\n",
       "        <td style=\"padding-left: 1em; padding-right: 1em; text-align: center; vertical-align: top\">SFO</td>\n",
       "        <td style=\"padding-left: 1em; padding-right: 1em; text-align: center; vertical-align: top\">SAN-SFO</td>\n",
       "    </tr>\n",
       "    <tr>\n",
       "        <td style=\"padding-left: 1em; padding-right: 1em; text-align: center; vertical-align: top\">SAN</td>\n",
       "        <td style=\"padding-left: 1em; padding-right: 1em; text-align: center; vertical-align: top\">SFO</td>\n",
       "        <td style=\"padding-left: 1em; padding-right: 1em; text-align: center; vertical-align: top\">SAN-SFO</td>\n",
       "    </tr>\n",
       "    <tr>\n",
       "        <td style=\"padding-left: 1em; padding-right: 1em; text-align: center; vertical-align: top\">SAN</td>\n",
       "        <td style=\"padding-left: 1em; padding-right: 1em; text-align: center; vertical-align: top\">SFO</td>\n",
       "        <td style=\"padding-left: 1em; padding-right: 1em; text-align: center; vertical-align: top\">SAN-SFO</td>\n",
       "    </tr>\n",
       "    <tr>\n",
       "        <td style=\"padding-left: 1em; padding-right: 1em; text-align: center; vertical-align: top\">SAN</td>\n",
       "        <td style=\"padding-left: 1em; padding-right: 1em; text-align: center; vertical-align: top\">SFO</td>\n",
       "        <td style=\"padding-left: 1em; padding-right: 1em; text-align: center; vertical-align: top\">SAN-SFO</td>\n",
       "    </tr>\n",
       "    <tr>\n",
       "        <td style=\"padding-left: 1em; padding-right: 1em; text-align: center; vertical-align: top\">SAN</td>\n",
       "        <td style=\"padding-left: 1em; padding-right: 1em; text-align: center; vertical-align: top\">SFO</td>\n",
       "        <td style=\"padding-left: 1em; padding-right: 1em; text-align: center; vertical-align: top\">SAN-SFO</td>\n",
       "    </tr>\n",
       "    <tr>\n",
       "        <td style=\"padding-left: 1em; padding-right: 1em; text-align: center; vertical-align: top\">SAN</td>\n",
       "        <td style=\"padding-left: 1em; padding-right: 1em; text-align: center; vertical-align: top\">SFO</td>\n",
       "        <td style=\"padding-left: 1em; padding-right: 1em; text-align: center; vertical-align: top\">SAN-SFO</td>\n",
       "    </tr>\n",
       "    <tr>\n",
       "        <td style=\"padding-left: 1em; padding-right: 1em; text-align: center; vertical-align: top\">SAN</td>\n",
       "        <td style=\"padding-left: 1em; padding-right: 1em; text-align: center; vertical-align: top\">SFO</td>\n",
       "        <td style=\"padding-left: 1em; padding-right: 1em; text-align: center; vertical-align: top\">SAN-SFO</td>\n",
       "    </tr>\n",
       "</table>\n",
       "[123534969 rows x 3 columns]<br/>Note: Only the head of the SFrame is printed.<br/>You can use print_rows(num_rows=m, num_columns=n) to print more rows and columns.\n",
       "</div>"
      ],
      "text/plain": [
       "Columns:\n",
       "\tOrigin\tstr\n",
       "\tDest\tstr\n",
       "\tFlightRoute\tstr\n",
       "\n",
       "Rows: 123534969\n",
       "\n",
       "Data:\n",
       "+--------+------+-------------+\n",
       "| Origin | Dest | FlightRoute |\n",
       "+--------+------+-------------+\n",
       "|  SAN   | SFO  |   SAN-SFO   |\n",
       "|  SAN   | SFO  |   SAN-SFO   |\n",
       "|  SAN   | SFO  |   SAN-SFO   |\n",
       "|  SAN   | SFO  |   SAN-SFO   |\n",
       "|  SAN   | SFO  |   SAN-SFO   |\n",
       "|  SAN   | SFO  |   SAN-SFO   |\n",
       "|  SAN   | SFO  |   SAN-SFO   |\n",
       "|  SAN   | SFO  |   SAN-SFO   |\n",
       "|  SAN   | SFO  |   SAN-SFO   |\n",
       "|  SAN   | SFO  |   SAN-SFO   |\n",
       "+--------+------+-------------+\n",
       "[123534969 rows x 3 columns]\n",
       "Note: Only the head of the SFrame is printed.\n",
       "You can use print_rows(num_rows=m, num_columns=n) to print more rows and columns."
      ]
     },
     "execution_count": 7,
     "metadata": {},
     "output_type": "execute_result"
    }
   ],
   "source": [
    "sf['FlightRoute'] = sf['Origin'] + \"-\" + sf['Dest']\n",
    "sf['Origin', 'Dest', 'FlightRoute']"
   ]
  },
  {
   "cell_type": "markdown",
   "metadata": {},
   "source": [
    "We can now determine which flight paths have the most delays overall.  We will use the DelayInd variable that we created earlier to do this.  This vairable is set to 1 if the flight had a delayed departure or arrival."
   ]
  },
  {
   "cell_type": "code",
   "execution_count": 8,
   "metadata": {},
   "outputs": [
    {
     "data": {
      "text/html": [
       "<div style=\"max-height:1000px;max-width:1500px;overflow:auto;\"><table frame=\"box\" rules=\"cols\">\n",
       "    <tr>\n",
       "        <th style=\"padding-left: 1em; padding-right: 1em; text-align: center\">FlightRoute</th>\n",
       "        <th style=\"padding-left: 1em; padding-right: 1em; text-align: center\">num_flights</th>\n",
       "        <th style=\"padding-left: 1em; padding-right: 1em; text-align: center\">num_delays</th>\n",
       "        <th style=\"padding-left: 1em; padding-right: 1em; text-align: center\">NumDelayPCT</th>\n",
       "    </tr>\n",
       "    <tr>\n",
       "        <td style=\"padding-left: 1em; padding-right: 1em; text-align: center; vertical-align: top\">MCO-DAB</td>\n",
       "        <td style=\"padding-left: 1em; padding-right: 1em; text-align: center; vertical-align: top\">163</td>\n",
       "        <td style=\"padding-left: 1em; padding-right: 1em; text-align: center; vertical-align: top\">157</td>\n",
       "        <td style=\"padding-left: 1em; padding-right: 1em; text-align: center; vertical-align: top\">0.963190184049</td>\n",
       "    </tr>\n",
       "    <tr>\n",
       "        <td style=\"padding-left: 1em; padding-right: 1em; text-align: center; vertical-align: top\">MIA-CHS</td>\n",
       "        <td style=\"padding-left: 1em; padding-right: 1em; text-align: center; vertical-align: top\">235</td>\n",
       "        <td style=\"padding-left: 1em; padding-right: 1em; text-align: center; vertical-align: top\">218</td>\n",
       "        <td style=\"padding-left: 1em; padding-right: 1em; text-align: center; vertical-align: top\">0.927659574468</td>\n",
       "    </tr>\n",
       "    <tr>\n",
       "        <td style=\"padding-left: 1em; padding-right: 1em; text-align: center; vertical-align: top\">MDT-RDU</td>\n",
       "        <td style=\"padding-left: 1em; padding-right: 1em; text-align: center; vertical-align: top\">158</td>\n",
       "        <td style=\"padding-left: 1em; padding-right: 1em; text-align: center; vertical-align: top\">146</td>\n",
       "        <td style=\"padding-left: 1em; padding-right: 1em; text-align: center; vertical-align: top\">0.924050632911</td>\n",
       "    </tr>\n",
       "    <tr>\n",
       "        <td style=\"padding-left: 1em; padding-right: 1em; text-align: center; vertical-align: top\">LGA-ROA</td>\n",
       "        <td style=\"padding-left: 1em; padding-right: 1em; text-align: center; vertical-align: top\">910</td>\n",
       "        <td style=\"padding-left: 1em; padding-right: 1em; text-align: center; vertical-align: top\">834</td>\n",
       "        <td style=\"padding-left: 1em; padding-right: 1em; text-align: center; vertical-align: top\">0.916483516484</td>\n",
       "    </tr>\n",
       "    <tr>\n",
       "        <td style=\"padding-left: 1em; padding-right: 1em; text-align: center; vertical-align: top\">RDU-ROA</td>\n",
       "        <td style=\"padding-left: 1em; padding-right: 1em; text-align: center; vertical-align: top\">306</td>\n",
       "        <td style=\"padding-left: 1em; padding-right: 1em; text-align: center; vertical-align: top\">280</td>\n",
       "        <td style=\"padding-left: 1em; padding-right: 1em; text-align: center; vertical-align: top\">0.915032679739</td>\n",
       "    </tr>\n",
       "    <tr>\n",
       "        <td style=\"padding-left: 1em; padding-right: 1em; text-align: center; vertical-align: top\">LGA-ICT</td>\n",
       "        <td style=\"padding-left: 1em; padding-right: 1em; text-align: center; vertical-align: top\">194</td>\n",
       "        <td style=\"padding-left: 1em; padding-right: 1em; text-align: center; vertical-align: top\">177</td>\n",
       "        <td style=\"padding-left: 1em; padding-right: 1em; text-align: center; vertical-align: top\">0.912371134021</td>\n",
       "    </tr>\n",
       "    <tr>\n",
       "        <td style=\"padding-left: 1em; padding-right: 1em; text-align: center; vertical-align: top\">EWR-UCA</td>\n",
       "        <td style=\"padding-left: 1em; padding-right: 1em; text-align: center; vertical-align: top\">204</td>\n",
       "        <td style=\"padding-left: 1em; padding-right: 1em; text-align: center; vertical-align: top\">186</td>\n",
       "        <td style=\"padding-left: 1em; padding-right: 1em; text-align: center; vertical-align: top\">0.911764705882</td>\n",
       "    </tr>\n",
       "    <tr>\n",
       "        <td style=\"padding-left: 1em; padding-right: 1em; text-align: center; vertical-align: top\">ANC-BRW</td>\n",
       "        <td style=\"padding-left: 1em; padding-right: 1em; text-align: center; vertical-align: top\">144</td>\n",
       "        <td style=\"padding-left: 1em; padding-right: 1em; text-align: center; vertical-align: top\">130</td>\n",
       "        <td style=\"padding-left: 1em; padding-right: 1em; text-align: center; vertical-align: top\">0.902777777778</td>\n",
       "    </tr>\n",
       "    <tr>\n",
       "        <td style=\"padding-left: 1em; padding-right: 1em; text-align: center; vertical-align: top\">RDU-MDT</td>\n",
       "        <td style=\"padding-left: 1em; padding-right: 1em; text-align: center; vertical-align: top\">161</td>\n",
       "        <td style=\"padding-left: 1em; padding-right: 1em; text-align: center; vertical-align: top\">145</td>\n",
       "        <td style=\"padding-left: 1em; padding-right: 1em; text-align: center; vertical-align: top\">0.900621118012</td>\n",
       "    </tr>\n",
       "    <tr>\n",
       "        <td style=\"padding-left: 1em; padding-right: 1em; text-align: center; vertical-align: top\">UCA-EWR</td>\n",
       "        <td style=\"padding-left: 1em; padding-right: 1em; text-align: center; vertical-align: top\">196</td>\n",
       "        <td style=\"padding-left: 1em; padding-right: 1em; text-align: center; vertical-align: top\">176</td>\n",
       "        <td style=\"padding-left: 1em; padding-right: 1em; text-align: center; vertical-align: top\">0.897959183673</td>\n",
       "    </tr>\n",
       "</table>\n",
       "[? rows x 4 columns]<br/>Note: Only the head of the SFrame is printed. This SFrame is lazily evaluated.<br/>You can use sf.materialize() to force materialization.\n",
       "</div>"
      ],
      "text/plain": [
       "Columns:\n",
       "\tFlightRoute\tstr\n",
       "\tnum_flights\tint\n",
       "\tnum_delays\tint\n",
       "\tNumDelayPCT\tfloat\n",
       "\n",
       "Rows: Unknown\n",
       "\n",
       "Data:\n",
       "+-------------+-------------+------------+----------------+\n",
       "| FlightRoute | num_flights | num_delays |  NumDelayPCT   |\n",
       "+-------------+-------------+------------+----------------+\n",
       "|   MCO-DAB   |     163     |    157     | 0.963190184049 |\n",
       "|   MIA-CHS   |     235     |    218     | 0.927659574468 |\n",
       "|   MDT-RDU   |     158     |    146     | 0.924050632911 |\n",
       "|   LGA-ROA   |     910     |    834     | 0.916483516484 |\n",
       "|   RDU-ROA   |     306     |    280     | 0.915032679739 |\n",
       "|   LGA-ICT   |     194     |    177     | 0.912371134021 |\n",
       "|   EWR-UCA   |     204     |    186     | 0.911764705882 |\n",
       "|   ANC-BRW   |     144     |    130     | 0.902777777778 |\n",
       "|   RDU-MDT   |     161     |    145     | 0.900621118012 |\n",
       "|   UCA-EWR   |     196     |    176     | 0.897959183673 |\n",
       "+-------------+-------------+------------+----------------+\n",
       "[? rows x 4 columns]\n",
       "Note: Only the head of the SFrame is printed. This SFrame is lazily evaluated.\n",
       "You can use sf.materialize() to force materialization."
      ]
     },
     "execution_count": 8,
     "metadata": {},
     "output_type": "execute_result"
    }
   ],
   "source": [
    "delay_counts = sf.groupby('FlightRoute', {'num_flights':gl.aggregate.COUNT()},\n",
    "                                    {'num_delays':gl.aggregate.SUM('DelayInd')})\n",
    "delay_counts['NumDelayPCT'] = delay_counts['num_delays'] / delay_counts['num_flights']\n",
    "delay_counts = delay_counts.sort('NumDelayPCT',ascending=False)\n",
    "delay_counts[delay_counts['num_flights'] > 100]"
   ]
  },
  {
   "cell_type": "markdown",
   "metadata": {},
   "source": [
    "The most delayed flight route is Orlando International Airport to Daytona Beach International Airport.  157 of the 163 flights on this route had either a delayed departure or arrival.  That is about 96% of the total flights on that route.  The other 9 of the top ten most delayed flight paths are MIA-CHS, MDT-RDU, LGA-ROA, RDU-ROA, LGA-ICT, EWR-UCA, ANC-BRW, RDU-MDT, and UCA-EWR."
   ]
  },
  {
   "cell_type": "markdown",
   "metadata": {},
   "source": [
    "### Regress how delayed a flight will be before it is delayed"
   ]
  },
  {
   "cell_type": "markdown",
   "metadata": {},
   "source": [
    "Next, we will use linear regression to try to determine how delayed a flight will be.  \n",
    "\n",
    "In order to simplify things, we will create two new variables that contain the floor of the departure and arrival times to the nearest hour."
   ]
  },
  {
   "cell_type": "code",
   "execution_count": 9,
   "metadata": {},
   "outputs": [
    {
     "data": {
      "text/plain": [
       "dtype: int\n",
       "Rows: 123534969\n",
       "[8L, 8L, 8L, 8L, 8L, 8L, 8L, 8L, 8L, 8L, 8L, 8L, 8L, 8L, 10L, 10L, 10L, 10L, 10L, 10L, 10L, 10L, 10L, 10L, 10L, 10L, 10L, 10L, 10L, 10L, 10L, 10L, 10L, 10L, 10L, 10L, 10L, 10L, 10L, 10L, 10L, 10L, 10L, 16L, 16L, 16L, 16L, 16L, 16L, 16L, 16L, 16L, 16L, 16L, 16L, 16L, 16L, 16L, 16L, 16L, 16L, 16L, 16L, 16L, 16L, 16L, 16L, 16L, 17L, 17L, 17L, 17L, 17L, 17L, 17L, 17L, 17L, 17L, 17L, 17L, 17L, 17L, 17L, 17L, 17L, 17L, 17L, 17L, 17L, 17L, 17L, 17L, 17L, 17L, 8L, 9L, 9L, 9L, 9L, 9L, ... ]"
      ]
     },
     "execution_count": 9,
     "metadata": {},
     "output_type": "execute_result"
    }
   ],
   "source": [
    "from math import floor\n",
    "sf['DepTimeByHour'] = sf['CRSDepTime'].apply(lambda x: floor(x/100),dtype=int)\n",
    "sf['DepTimeByHour']\n",
    "sf['ArrTimeByHour'] = sf['CRSArrTime'].apply(lambda x: floor(x/100),dtype=int)\n",
    "sf['ArrTimeByHour']"
   ]
  },
  {
   "cell_type": "markdown",
   "metadata": {},
   "source": [
    "Some records have the departure hour set to 0 and some have it set to 24.  Since these are the same time, we will change all of the values of 24 to 0."
   ]
  },
  {
   "cell_type": "code",
   "execution_count": 10,
   "metadata": {
    "collapsed": true
   },
   "outputs": [],
   "source": [
    "sf['DepTimeByHour'] = sf['DepTimeByHour'].apply(lambda x: 0 if x==24 else x)\n",
    "sf['ArrTimeByHour'] = sf['ArrTimeByHour'].apply(lambda x: 0 if x==24 else x)"
   ]
  },
  {
   "cell_type": "markdown",
   "metadata": {},
   "source": [
    "In order to keep the original SFrame intact, we will create a new SFrame that only contains the features that we might use in a linear regression model.  This does not include any features that would be unknown before the flight (such as delay times and cancellations).  We also want to create a new column that contains the age of each specific plane.  We will use the tail number to do this.  Since the tail numbers were not recorded before 1995, we will only use records from after 1994."
   ]
  },
  {
   "cell_type": "code",
   "execution_count": 11,
   "metadata": {
    "collapsed": true
   },
   "outputs": [],
   "source": [
    "sf_tmp = sf[['DepDelay','TailNum','Year','Month','DayofMonth','DayOfWeek','DepTimeByHour','ArrTimeByHour','UniqueCarrier','Origin','Dest','CRSElapsedTime','Distance','FlightRoute']][sf['Year']>1994]"
   ]
  },
  {
   "cell_type": "markdown",
   "metadata": {},
   "source": [
    "Now we will calculate the age of the planes at the time of flight.  To do this, we first create a variable named FlightAge that contains the number of months since the year 0 at the time of the flight.\n",
    "\n",
    "Each plane has a unique tail number that does not change.  For each tail number, we find the minimum FlightAge and store these results in a new SFrame called sf_min_ages."
   ]
  },
  {
   "cell_type": "code",
   "execution_count": 12,
   "metadata": {},
   "outputs": [
    {
     "name": "stdout",
     "output_type": "stream",
     "text": [
      "Took 8.14 seconds to run\n"
     ]
    }
   ],
   "source": [
    "import time\n",
    "sf_tmp['FlightAge'] = 12*sf_tmp['Year']+sf_tmp['Month']-1\n",
    "\n",
    "t = time.time()\n",
    "sf_min_ages = sf_tmp[['TailNum','FlightAge']].groupby('TailNum',{'FirstFlight':gl.aggregate.MIN('FlightAge')})\n",
    "print 'Took %.2f seconds to run'%(time.time()-t)"
   ]
  },
  {
   "cell_type": "markdown",
   "metadata": {},
   "source": [
    "Now we join the original SFrame with the new SFrame that contains the minimum ages of the planes."
   ]
  },
  {
   "cell_type": "code",
   "execution_count": 13,
   "metadata": {},
   "outputs": [
    {
     "name": "stdout",
     "output_type": "stream",
     "text": [
      "Wall time: 37.3 s\n"
     ]
    }
   ],
   "source": [
    "%time sf_fewcols = sf_tmp[['TailNum','FlightAge']].join(sf_min_ages,on='TailNum',how='left') # long operation"
   ]
  },
  {
   "cell_type": "markdown",
   "metadata": {},
   "source": [
    "Finally, the time since the first recorded flight for each tail number is calculated by subtracting the FirstFlight variable from the FlightAge variable."
   ]
  },
  {
   "cell_type": "code",
   "execution_count": 14,
   "metadata": {
    "collapsed": true
   },
   "outputs": [],
   "source": [
    "sf_tmp['Age'] = sf_fewcols['FlightAge']-sf_fewcols['FirstFlight']"
   ]
  },
  {
   "cell_type": "markdown",
   "metadata": {},
   "source": [
    "Now that we have created some additional features, the data can be prepared for cross validation.  The SFrame is currently ordered by year.  We will need to shuffle the SFrame in order to produce random folds."
   ]
  },
  {
   "cell_type": "code",
   "execution_count": 15,
   "metadata": {
    "collapsed": true
   },
   "outputs": [],
   "source": [
    "sf_shuffled = gl.cross_validation.shuffle(sf_tmp.dropna())"
   ]
  },
  {
   "cell_type": "markdown",
   "metadata": {},
   "source": [
    "Now that the data has been shuffled, we can create the graphlab cross validation object.  For the purposes of this exercise, 5 fold cross validation will be used."
   ]
  },
  {
   "cell_type": "code",
   "execution_count": 16,
   "metadata": {
    "collapsed": true
   },
   "outputs": [],
   "source": [
    "folds = gl.cross_validation.KFold(sf_shuffled, 5)"
   ]
  },
  {
   "cell_type": "markdown",
   "metadata": {},
   "source": [
    "The cross validation object has been created and we are now ready to run linear regression.  We are interested in trying to determine how long a flight will be delayed before it is delayed.  Therefore, the target variable will be DepDelay.  This variable contains the number of minutes that a flight's departure was delayed.\n",
    "\n",
    "The features that will be supplied for possible inclusion in the model are the month, day of week, hour of departure time, hour of arrival time, flight route, scheduled flight time in minutes, and age of the plane.  Any variables that are calculated after a flight takes off (such as taxi times and weather delays) will not be included.  \n",
    "\n",
    "The graphlab linear_regression function contains a solver parameter that can perform feature selection automatically.  There are three different solvers that can be used - Newton-Raphson, limited memory BFGS, and accelerated gradient descent.  We will leave the solver parameter set to the default of \"auto.\"  This will automatically determine the optimal solver for the data and model parameters."
   ]
  },
  {
   "cell_type": "code",
   "execution_count": 25,
   "metadata": {},
   "outputs": [
    {
     "name": "stderr",
     "output_type": "stream",
     "text": [
      "[INFO] graphlab.deploy.job: Validating job.\n",
      "[INFO] graphlab.deploy.job: Creating a LocalAsync environment called 'async'.\n",
      "[INFO] graphlab.deploy.map_job: Validation complete. Job: 'Cross-Validation-Aug-09-2017-21-26-53-318000--1815483' ready for execution\n",
      "[INFO] graphlab.deploy.map_job: Job: 'Cross-Validation-Aug-09-2017-21-26-53-318000--1815483' scheduled.\n",
      "[INFO] graphlab.deploy._job: Waiting for job to finish, this may take quite a while.\n",
      "[INFO] graphlab.deploy._job: You may CTRL-C to stop this command and it will not cancel your job.\n"
     ]
    },
    {
     "name": "stdout",
     "output_type": "stream",
     "text": [
      "OrderedDict([('models', [Class                          : LinearRegression\n",
      "\n",
      "Schema\n",
      "------\n",
      "Number of coefficients         : 7547\n",
      "Number of examples             : 67518053\n",
      "Number of feature columns      : 7\n",
      "Number of unpacked features    : 7\n",
      "\n",
      "Hyperparameters\n",
      "---------------\n",
      "L1 penalty                     : 0.0\n",
      "L2 penalty                     : 0.01\n",
      "\n",
      "Training Summary\n",
      "----------------\n",
      "Solver                         : lbfgs\n",
      "Solver iterations              : 10\n",
      "Solver status                  : TERMINATED: Iteration limit reached.\n",
      "Training time (sec)            : 292.8456\n",
      "\n",
      "Settings\n",
      "--------\n",
      "Residual sum of squares        : 62689339900.9\n",
      "Training RMSE                  : 30.471\n",
      "\n",
      "Highest Positive Coefficients\n",
      "-----------------------------\n",
      "FlightRoute[CMI-SPI]           : 574.6707\n",
      "FlightRoute[SUX-OMA]           : 410.5607\n",
      "FlightRoute[BIS-FAR]           : 352.5635\n",
      "FlightRoute[MCI-SGF]           : 344.2863\n",
      "FlightRoute[BFL-SBA]           : 320.9974\n",
      "\n",
      "Lowest Negative Coefficients\n",
      "----------------------------\n",
      "FlightRoute[OAK-ABI]           : -184.9329\n",
      "FlightRoute[IAD-ATW]           : -161.3959\n",
      "FlightRoute[SDF-JAX]           : -99.558\n",
      "FlightRoute[TYS-AEX]           : -71.4461\n",
      "FlightRoute[LBB-OAK]           : -67.1342\n",
      ", Class                          : LinearRegression\n",
      "\n",
      "Schema\n",
      "------\n",
      "Number of coefficients         : 7562\n",
      "Number of examples             : 67518052\n",
      "Number of feature columns      : 7\n",
      "Number of unpacked features    : 7\n",
      "\n",
      "Hyperparameters\n",
      "---------------\n",
      "L1 penalty                     : 0.0\n",
      "L2 penalty                     : 0.01\n",
      "\n",
      "Training Summary\n",
      "----------------\n",
      "Solver                         : lbfgs\n",
      "Solver iterations              : 10\n",
      "Solver status                  : TERMINATED: Iteration limit reached.\n",
      "Training time (sec)            : 280.7041\n",
      "\n",
      "Settings\n",
      "--------\n",
      "Residual sum of squares        : 62667165452.4\n",
      "Training RMSE                  : 30.4656\n",
      "\n",
      "Highest Positive Coefficients\n",
      "-----------------------------\n",
      "FlightRoute[SUX-OMA]           : 410.6124\n",
      "FlightRoute[BIS-FAR]           : 352.6208\n",
      "FlightRoute[MCI-SGF]           : 344.3283\n",
      "FlightRoute[SDF-SPI]           : 316.9524\n",
      "FlightRoute[ELP-MFE]           : 302.4143\n",
      "\n",
      "Lowest Negative Coefficients\n",
      "----------------------------\n",
      "FlightRoute[OAK-ABI]           : -184.9209\n",
      "FlightRoute[IAD-ATW]           : -161.3788\n",
      "FlightRoute[TYS-AEX]           : -71.4291\n",
      "FlightRoute[LBB-OAK]           : -67.1091\n",
      "FlightRoute[SYR-ALB]           : -52.9925\n",
      ", Class                          : LinearRegression\n",
      "\n",
      "Schema\n",
      "------\n",
      "Number of coefficients         : 7559\n",
      "Number of examples             : 67518053\n",
      "Number of feature columns      : 7\n",
      "Number of unpacked features    : 7\n",
      "\n",
      "Hyperparameters\n",
      "---------------\n",
      "L1 penalty                     : 0.0\n",
      "L2 penalty                     : 0.01\n",
      "\n",
      "Training Summary\n",
      "----------------\n",
      "Solver                         : lbfgs\n",
      "Solver iterations              : 10\n",
      "Solver status                  : TERMINATED: Iteration limit reached.\n",
      "Training time (sec)            : 278.1642\n",
      "\n",
      "Settings\n",
      "--------\n",
      "Residual sum of squares        : 62812029838.8\n",
      "Training RMSE                  : 30.5008\n",
      "\n",
      "Highest Positive Coefficients\n",
      "-----------------------------\n",
      "FlightRoute[CMI-SPI]           : 574.6824\n",
      "FlightRoute[SUX-OMA]           : 410.5836\n",
      "FlightRoute[ABE-FWA]           : 355.3048\n",
      "FlightRoute[BIS-FAR]           : 352.5831\n",
      "FlightRoute[MCI-SGF]           : 344.3034\n",
      "\n",
      "Lowest Negative Coefficients\n",
      "----------------------------\n",
      "FlightRoute[SDF-JAX]           : -99.557\n",
      "FlightRoute[TYS-AEX]           : -71.4419\n",
      "FlightRoute[LBB-OAK]           : -67.1332\n",
      "FlightRoute[SYR-ALB]           : -53.0064\n",
      "FlightRoute[ONT-IAD]           : -46.7665\n",
      ", Class                          : LinearRegression\n",
      "\n",
      "Schema\n",
      "------\n",
      "Number of coefficients         : 7562\n",
      "Number of examples             : 67518053\n",
      "Number of feature columns      : 7\n",
      "Number of unpacked features    : 7\n",
      "\n",
      "Hyperparameters\n",
      "---------------\n",
      "L1 penalty                     : 0.0\n",
      "L2 penalty                     : 0.01\n",
      "\n",
      "Training Summary\n",
      "----------------\n",
      "Solver                         : lbfgs\n",
      "Solver iterations              : 10\n",
      "Solver status                  : TERMINATED: Iteration limit reached.\n",
      "Training time (sec)            : 281.4469\n",
      "\n",
      "Settings\n",
      "--------\n",
      "Residual sum of squares        : 62698918365.5\n",
      "Training RMSE                  : 30.4733\n",
      "\n",
      "Highest Positive Coefficients\n",
      "-----------------------------\n",
      "FlightRoute[CMI-SPI]           : 574.6818\n",
      "FlightRoute[BIS-FAR]           : 352.5731\n",
      "FlightRoute[BFL-SBA]           : 321.0111\n",
      "FlightRoute[SDF-SPI]           : 316.916\n",
      "FlightRoute[ELP-MFE]           : 302.3909\n",
      "\n",
      "Lowest Negative Coefficients\n",
      "----------------------------\n",
      "FlightRoute[OAK-ABI]           : -184.9219\n",
      "FlightRoute[IAD-ATW]           : -161.3895\n",
      "FlightRoute[SDF-JAX]           : -99.5551\n",
      "FlightRoute[TYS-AEX]           : -71.4465\n",
      "FlightRoute[SYR-ALB]           : -52.9872\n",
      ", Class                          : LinearRegression\n",
      "\n",
      "Schema\n",
      "------\n",
      "Number of coefficients         : 7545\n",
      "Number of examples             : 67518053\n",
      "Number of feature columns      : 7\n",
      "Number of unpacked features    : 7\n",
      "\n",
      "Hyperparameters\n",
      "---------------\n",
      "L1 penalty                     : 0.0\n",
      "L2 penalty                     : 0.01\n",
      "\n",
      "Training Summary\n",
      "----------------\n",
      "Solver                         : lbfgs\n",
      "Solver iterations              : 10\n",
      "Solver status                  : TERMINATED: Iteration limit reached.\n",
      "Training time (sec)            : 276.806\n",
      "\n",
      "Settings\n",
      "--------\n",
      "Residual sum of squares        : 62804936987.2\n",
      "Training RMSE                  : 30.4991\n",
      "\n",
      "Highest Positive Coefficients\n",
      "-----------------------------\n",
      "FlightRoute[CMI-SPI]           : 574.68\n",
      "FlightRoute[SUX-OMA]           : 410.5776\n",
      "FlightRoute[MCI-SGF]           : 344.2964\n",
      "FlightRoute[BFL-SBA]           : 321.0113\n",
      "FlightRoute[HPN-PIA]           : 289.4809\n",
      "\n",
      "Lowest Negative Coefficients\n",
      "----------------------------\n",
      "FlightRoute[OAK-ABI]           : -184.9257\n",
      "FlightRoute[IAD-ATW]           : -161.3925\n",
      "FlightRoute[SDF-JAX]           : -99.5549\n",
      "FlightRoute[LBB-OAK]           : -67.1256\n",
      "FlightRoute[MKE-TUS]           : -49.6695\n",
      "]), ('summary', Columns:\n",
      "\tfeatures\tlist\n",
      "\ttarget\tstr\n",
      "\ttraining_rmse\tfloat\n",
      "\tvalidation_rmse\tfloat\n",
      "\tfold_id\tint\n",
      "\tmodel_id\tint\n",
      "\n",
      "Rows: 5\n",
      "\n",
      "Data:\n",
      "+-------------------------------+----------+---------------+-----------------+---------+\n",
      "|            features           |  target  | training_rmse | validation_rmse | fold_id |\n",
      "+-------------------------------+----------+---------------+-----------------+---------+\n",
      "| [Month, DayOfWeek, DepTime... | DepDelay | 30.4710130631 |  30.5307682203  |    1    |\n",
      "| [Month, DayOfWeek, DepTime... | DepDelay | 30.4656237148 |  30.5529605828  |    0    |\n",
      "| [Month, DayOfWeek, DepTime... | DepDelay | 30.5008160515 |  30.4111123283  |    3    |\n",
      "| [Month, DayOfWeek, DepTime... | DepDelay | 30.4733408462 |  30.5211760984  |    2    |\n",
      "| [Month, DayOfWeek, DepTime... | DepDelay | 30.4990938983 |  30.4183980857  |    4    |\n",
      "+-------------------------------+----------+---------------+-----------------+---------+\n",
      "+----------+\n",
      "| model_id |\n",
      "+----------+\n",
      "|    1     |\n",
      "|    0     |\n",
      "|    3     |\n",
      "|    2     |\n",
      "|    4     |\n",
      "+----------+\n",
      "[5 rows x 6 columns]\n",
      ")])\n"
     ]
    }
   ],
   "source": [
    "params = dict([('target', 'DepDelay'),('features',['Month','DayOfWeek','DepTimeByHour','ArrTimeByHour','FlightRoute','CRSElapsedTime','Age'])])\n",
    "job = gl.cross_validation.cross_val_score(folds,\n",
    "                                         gl.linear_regression.create,\n",
    "                                         params)\n",
    "\n",
    "print(job.get_results())"
   ]
  },
  {
   "cell_type": "markdown",
   "metadata": {
    "collapsed": true
   },
   "source": [
    "After some time, the cross validated linear regression returned successfully.  \n",
    "\n",
    "The limited memory BFGS solver was chosen and left all 7 features in the model.\n",
    "\n",
    "The model appears to be fairly accurate with an average validation root mean square error of 30.5.  The average training root mean square error is also 305, so the model appears to generalize well and does not appear to be overfit to the training data.\n",
    "\n",
    "The flight route seems to be the feature that is most highly correlated with the length of departure delay, as the 5 most positively and negatively correlated features for each fold are all dummy variables created for individual flight routes."
   ]
  },
  {
   "cell_type": "markdown",
   "metadata": {
    "collapsed": true
   },
   "source": [
    "## Conclusions and Future Work"
   ]
  },
  {
   "cell_type": "markdown",
   "metadata": {},
   "source": [
    "With the ever increasing availability of large datasets, new challenges have arisen related to the ability to actually process the data.  The aim of this case study was to determine if it would be feasible to perform some standard data exploration and rudimentary machine learning on a data set that is too large to fit into memory on an average machine.  Using the Turi GraphLab library, this was able to be accomplished fairly easily.  Although the data set is large, most of the operations were performed in times that were not incredibly excessive.\n",
    "\n",
    "As is the case with most projects, there is room for future work with this case study in several areas.  First of all, the data itself could be explored further.  We only just scratched the surface focusing specifically on delayed flights.  Techniques other than linear regression could be explored for predicting the length of delays.  There is also room for analysis in other areas (service time of individual planes, weather related delays, etc.).  In addition to further analysis on the data itself, different libraries/tools for out of core memory operations could be examined.  Perhaps there are better alternatives to GraphLab that could be used."
   ]
  }
 ],
 "metadata": {
  "kernelspec": {
   "display_name": "Python 2",
   "language": "python",
   "name": "python2"
  },
  "language_info": {
   "codemirror_mode": {
    "name": "ipython",
    "version": 2
   },
   "file_extension": ".py",
   "mimetype": "text/x-python",
   "name": "python",
   "nbconvert_exporter": "python",
   "pygments_lexer": "ipython2",
   "version": "2.7.13"
  }
 },
 "nbformat": 4,
 "nbformat_minor": 2
}
