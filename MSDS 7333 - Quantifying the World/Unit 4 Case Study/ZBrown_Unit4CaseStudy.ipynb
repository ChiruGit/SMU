{
 "cells": [
  {
   "cell_type": "markdown",
   "metadata": {},
   "source": [
    "<center><h1>Future Contract Rolling</h1>\n",
    "Zach Brown<br>\n",
    "MSDS 7333 - Quantifying the World<br>\n",
    "June 7, 2017</center>"
   ]
  },
  {
   "cell_type": "markdown",
   "metadata": {},
   "source": [
    "## Abstract"
   ]
  },
  {
   "cell_type": "markdown",
   "metadata": {},
   "source": [
    "<b>In future contract rolling, it is imperative to determine the optimal time to trade out of an expiring near contract to the far contract in order to be a successful trader.  This study examined a method using seighted sums of random walk simulations for two different future contracts for Tesla stock.  The returns generated using this method were inconclusive with a mean of 0.  There are lots of opportunities for further studying this subject though, as this case study only examined one future rolling method, one data projection method and one stock.</b>"
   ]
  },
  {
   "cell_type": "markdown",
   "metadata": {},
   "source": [
    "## Introduction"
   ]
  },
  {
   "cell_type": "markdown",
   "metadata": {},
   "source": [
    "Financial markets provide a myriad of different ways to invest one's money.  Futures contracts are one of these such options.  Investopedia defines a futures contract as \"[A] legal agreement, generally made on the trading floor of a futures exchange, to buy or sell a particular commodity or financial instrument at a predetermined price at a specified time in the future\" (Investopedia Staff, 2003).  So a buyer will agree to buy a futures contract, hoping that the market price at the time of purchase is higher than the price agreed to in the contract.  Conversely, the seller is betting that the market price will be lower than the price agreed to in the contract."
   ]
  },
  {
   "cell_type": "markdown",
   "metadata": {},
   "source": [
    "At any given time, there are generally many existing futures contracts for a given commodity all with different expiration dates.  In addition to simply agreeing to a contract and then completing the payment at the agreed-upon date, one can also trade contracts.  This complictes things further, as one must attempt to calculate the optimal time to trade out of an expiring contract."
   ]
  },
  {
   "cell_type": "markdown",
   "metadata": {},
   "source": [
    "The purpose of this case study is to analyze one method of calculating when to trade out an expiring contract for a new contract.  We will simulate future data for Tesla stock, determine the optimal time to trade from one contract to the next and then evaluate the results.  Ideally, this will result in positive returns."
   ]
  },
  {
   "cell_type": "markdown",
   "metadata": {},
   "source": [
    "The code used in this case study was based on pages 347 - 350 of \"Python for Data Analysis\" (McKinney, 2012)."
   ]
  },
  {
   "cell_type": "markdown",
   "metadata": {},
   "source": [
    "## Methods and Results"
   ]
  },
  {
   "cell_type": "markdown",
   "metadata": {},
   "source": [
    "The first step in this analysis is to import all required libraries.  We will use the matplotlib, numpy, pandas, and pandas_datareader libraries, as well as the datetime command from the datetime library."
   ]
  },
  {
   "cell_type": "code",
   "execution_count": 1,
   "metadata": {
    "collapsed": true
   },
   "outputs": [],
   "source": [
    "import matplotlib.pyplot as plt\n",
    "import numpy as np\n",
    "import pandas as pd\n",
    "import pandas_datareader.data as web\n",
    "from datetime import datetime\n",
    "from pandas import Series, DataFrame\n",
    "\n",
    "%matplotlib inline"
   ]
  },
  {
   "cell_type": "markdown",
   "metadata": {},
   "source": [
    "Next, we use the pandas_datareader library to download daily closing prices from Google Finance.  We will be analyzing Tesla's stock data in this case study"
   ]
  },
  {
   "cell_type": "code",
   "execution_count": 2,
   "metadata": {
    "collapsed": true
   },
   "outputs": [],
   "source": [
    "px = web.get_data_google('TSLA')['Close'] * 10"
   ]
  },
  {
   "cell_type": "code",
   "execution_count": 3,
   "metadata": {
    "collapsed": false
   },
   "outputs": [
    {
     "data": {
      "text/plain": [
       "Date\n",
       "2010-06-29     238.9\n",
       "2010-06-30     238.3\n",
       "2010-07-01     219.6\n",
       "2010-07-02     192.0\n",
       "2010-07-06     161.1\n",
       "2010-07-07     158.0\n",
       "2010-07-08     174.6\n",
       "2010-07-09     174.0\n",
       "2010-07-12     170.5\n",
       "2010-07-13     181.4\n",
       "2010-07-14     198.4\n",
       "2010-07-15     198.9\n",
       "2010-07-16     206.4\n",
       "2010-07-19     219.1\n",
       "2010-07-20     203.0\n",
       "2010-07-21     202.2\n",
       "2010-07-22     210.0\n",
       "2010-07-23     212.9\n",
       "2010-07-26     209.5\n",
       "2010-07-27     205.5\n",
       "2010-07-28     207.2\n",
       "2010-07-29     203.5\n",
       "2010-07-30     199.4\n",
       "2010-08-02     209.2\n",
       "2010-08-03     219.5\n",
       "2010-08-04     212.6\n",
       "2010-08-05     204.5\n",
       "2010-08-06     195.9\n",
       "2010-08-09     196.0\n",
       "2010-08-10     190.3\n",
       "               ...  \n",
       "2017-04-26    3101.7\n",
       "2017-04-27    3086.3\n",
       "2017-04-28    3140.7\n",
       "2017-05-01    3228.3\n",
       "2017-05-02    3188.9\n",
       "2017-05-03    3110.2\n",
       "2017-05-04    2954.6\n",
       "2017-05-05    3083.5\n",
       "2017-05-08    3071.9\n",
       "2017-05-09    3212.6\n",
       "2017-05-10    3252.2\n",
       "2017-05-11    3231.0\n",
       "2017-05-12    3248.1\n",
       "2017-05-15    3158.8\n",
       "2017-05-16    3170.1\n",
       "2017-05-17    3061.1\n",
       "2017-05-18    3130.6\n",
       "2017-05-19    3108.3\n",
       "2017-05-22    3103.5\n",
       "2017-05-23    3038.6\n",
       "2017-05-24    3102.2\n",
       "2017-05-25    3168.3\n",
       "2017-05-26    3251.4\n",
       "2017-05-30    3351.0\n",
       "2017-05-31    3410.1\n",
       "2017-06-01    3403.7\n",
       "2017-06-02    3398.5\n",
       "2017-06-05    3473.2\n",
       "2017-06-06    3528.5\n",
       "2017-06-07    3596.5\n",
       "Name: Close, dtype: float64"
      ]
     },
     "execution_count": 3,
     "metadata": {},
     "output_type": "execute_result"
    }
   ],
   "source": [
    "px"
   ]
  },
  {
   "cell_type": "markdown",
   "metadata": {},
   "source": [
    "Next, we create a dictionary containing two future contracts and their expiration dates."
   ]
  },
  {
   "cell_type": "code",
   "execution_count": 4,
   "metadata": {
    "collapsed": true
   },
   "outputs": [],
   "source": [
    "expiry = {'ESU2': datetime(2017, 9, 21),\n",
    "         'ESZ2': datetime(2017, 12, 21)}"
   ]
  },
  {
   "cell_type": "markdown",
   "metadata": {},
   "source": [
    "This dictionary is converted to a Pandas Series and sorted."
   ]
  },
  {
   "cell_type": "code",
   "execution_count": 5,
   "metadata": {
    "collapsed": false
   },
   "outputs": [],
   "source": [
    "expiry = Series(expiry).sort_values()"
   ]
  },
  {
   "cell_type": "code",
   "execution_count": 6,
   "metadata": {
    "collapsed": false
   },
   "outputs": [
    {
     "data": {
      "text/plain": [
       "ESU2   2017-09-21\n",
       "ESZ2   2017-12-21\n",
       "dtype: datetime64[ns]"
      ]
     },
     "execution_count": 6,
     "metadata": {},
     "output_type": "execute_result"
    }
   ],
   "source": [
    "expiry"
   ]
  },
  {
   "cell_type": "markdown",
   "metadata": {},
   "source": [
    "We then simulate future closing prices of the Tesla stock using historical data with a random walk and noise.  We use a seed of 12347 to initialize the random number generator.  This allows the results to be duplicated later if necessary."
   ]
  },
  {
   "cell_type": "code",
   "execution_count": 7,
   "metadata": {
    "collapsed": true
   },
   "outputs": [],
   "source": [
    "np.random.seed(12347)"
   ]
  },
  {
   "cell_type": "markdown",
   "metadata": {},
   "source": [
    "The variable N is set to 200 and will be used to specify the desired number of simulated data points."
   ]
  },
  {
   "cell_type": "code",
   "execution_count": 8,
   "metadata": {
    "collapsed": true
   },
   "outputs": [],
   "source": [
    "N = 200"
   ]
  },
  {
   "cell_type": "markdown",
   "metadata": {},
   "source": [
    "The distance for each random walk step (without noise) is calculated by generating an array of 200 random integers between 0 and 20, subtracting 100 and multiplying by 0.25."
   ]
  },
  {
   "cell_type": "code",
   "execution_count": 9,
   "metadata": {
    "collapsed": true
   },
   "outputs": [],
   "source": [
    "walk = (np.random.randint(0, 200, size=N) - 100) * 0.25"
   ]
  },
  {
   "cell_type": "markdown",
   "metadata": {},
   "source": [
    "Similarly, the noise for each step is calculated by generating 200 random integers between 0 and 20, subtracting 10 and multiplying by 0.25.  These numbers are stored in an array called perturb."
   ]
  },
  {
   "cell_type": "code",
   "execution_count": 10,
   "metadata": {
    "collapsed": true
   },
   "outputs": [],
   "source": [
    "perturb = (np.random.randint(0, 20, size=N) - 10) * 0.25"
   ]
  },
  {
   "cell_type": "markdown",
   "metadata": {},
   "source": [
    "The walk array is then converted from individual steps to a cumulative sum."
   ]
  },
  {
   "cell_type": "code",
   "execution_count": 11,
   "metadata": {
    "collapsed": true
   },
   "outputs": [],
   "source": [
    "walk = walk.cumsum()"
   ]
  },
  {
   "cell_type": "markdown",
   "metadata": {},
   "source": [
    "A date range is created to encapsulate the dates from the historical data as well as the additional 200 simulated dates.  The frequency for this date range is business days, as the stock market is not open on weekends."
   ]
  },
  {
   "cell_type": "code",
   "execution_count": 12,
   "metadata": {
    "collapsed": true
   },
   "outputs": [],
   "source": [
    "rng = pd.date_range(px.index[0], periods=len(px) + N, freq='B')"
   ]
  },
  {
   "cell_type": "markdown",
   "metadata": {},
   "source": [
    "We then create a time series for the near contract and for the far contract.  The near contract time series is created by adding the cumulative walk numbers to the last element in the px time series (which contains the historical data).  The far time series is constructed similarly, but the perturb data is also added in this case.  This results in the two time series differing from each other by the random noise generated in the perturb time series."
   ]
  },
  {
   "cell_type": "code",
   "execution_count": 13,
   "metadata": {
    "collapsed": true
   },
   "outputs": [],
   "source": [
    "near = np.concatenate([px.values, px.values[-1] + walk])"
   ]
  },
  {
   "cell_type": "code",
   "execution_count": 14,
   "metadata": {
    "collapsed": true
   },
   "outputs": [],
   "source": [
    "far = np.concatenate([px.values, px.values[-1] + walk + perturb])"
   ]
  },
  {
   "cell_type": "markdown",
   "metadata": {},
   "source": [
    "The prices dataframe is constructed using the near and far time series with the date range we created earlier serving as the index."
   ]
  },
  {
   "cell_type": "code",
   "execution_count": 15,
   "metadata": {
    "collapsed": false
   },
   "outputs": [],
   "source": [
    "prices = DataFrame({'ESU2': near, 'ESZ2': far}, index=rng)"
   ]
  },
  {
   "cell_type": "markdown",
   "metadata": {},
   "source": [
    "The plot below shows that the simulated prices for both contracts appear to rise fairly rapidly before leveling off."
   ]
  },
  {
   "cell_type": "code",
   "execution_count": 16,
   "metadata": {
    "collapsed": false
   },
   "outputs": [
    {
     "data": {
      "text/plain": [
       "<matplotlib.axes._subplots.AxesSubplot at 0x23017645978>"
      ]
     },
     "execution_count": 16,
     "metadata": {},
     "output_type": "execute_result"
    },
    {
     "data": {
      "image/png": "[encoded data removed]",
      "text/plain": [
       "<matplotlib.figure.Figure at 0x2301759c860>"
      ]
     },
     "metadata": {},
     "output_type": "display_data"
    }
   ],
   "source": [
    "prices.plot()"
   ]
  },
  {
   "cell_type": "code",
   "execution_count": 17,
   "metadata": {
    "collapsed": false
   },
   "outputs": [
    {
     "data": {
      "text/html": [
       "<div>\n",
       "<table border=\"1\" class=\"dataframe\">\n",
       "  <thead>\n",
       "    <tr style=\"text-align: right;\">\n",
       "      <th></th>\n",
       "      <th>ESU2</th>\n",
       "      <th>ESZ2</th>\n",
       "    </tr>\n",
       "  </thead>\n",
       "  <tbody>\n",
       "    <tr>\n",
       "      <th>2017-12-08</th>\n",
       "      <td>3625.75</td>\n",
       "      <td>3627.50</td>\n",
       "    </tr>\n",
       "    <tr>\n",
       "      <th>2017-12-11</th>\n",
       "      <td>3612.00</td>\n",
       "      <td>3614.25</td>\n",
       "    </tr>\n",
       "    <tr>\n",
       "      <th>2017-12-12</th>\n",
       "      <td>3620.00</td>\n",
       "      <td>3621.75</td>\n",
       "    </tr>\n",
       "    <tr>\n",
       "      <th>2017-12-13</th>\n",
       "      <td>3636.50</td>\n",
       "      <td>3635.75</td>\n",
       "    </tr>\n",
       "    <tr>\n",
       "      <th>2017-12-14</th>\n",
       "      <td>3616.50</td>\n",
       "      <td>3614.25</td>\n",
       "    </tr>\n",
       "  </tbody>\n",
       "</table>\n",
       "</div>"
      ],
      "text/plain": [
       "               ESU2     ESZ2\n",
       "2017-12-08  3625.75  3627.50\n",
       "2017-12-11  3612.00  3614.25\n",
       "2017-12-12  3620.00  3621.75\n",
       "2017-12-13  3636.50  3635.75\n",
       "2017-12-14  3616.50  3614.25"
      ]
     },
     "execution_count": 17,
     "metadata": {},
     "output_type": "execute_result"
    }
   ],
   "source": [
    "prices.tail()"
   ]
  },
  {
   "cell_type": "markdown",
   "metadata": {},
   "source": [
    "In order to splice the time series for the two contracts into one time series, we need to determine when to roll to the next contract.  We will do this by creating a weighting matrix using linear decay.  The get_roll_weights function will assign a weight of 1 to the active contract until the expiration date draws near."
   ]
  },
  {
   "cell_type": "code",
   "execution_count": 18,
   "metadata": {
    "collapsed": true
   },
   "outputs": [],
   "source": [
    "def get_roll_weights(start, expiry, items, roll_periods=5):\n",
    "    # start : first date to compute weighting DataFrame\n",
    "    # expiry : Series of ticker -> expiration dates\n",
    "    # items : sequence of contract names\n",
    "\n",
    "    dates = pd.date_range(start, expiry[-1], freq='B')\n",
    "    weights = DataFrame(np.zeros((len(dates), len(items))),\n",
    "                        index=dates, columns=items)\n",
    "\n",
    "    prev_date = weights.index[0]\n",
    "    for i, (item, ex_date) in enumerate(expiry.iteritems()):\n",
    "        if i < len(expiry) - 1:\n",
    "            weights.ix[prev_date:ex_date - pd.offsets.BDay(), item] = 1\n",
    "            roll_rng = pd.date_range(end=ex_date - pd.offsets.BDay(),\n",
    "                                     periods=roll_periods + 1, freq='B')\n",
    "\n",
    "            decay_weights = np.linspace(0, 1, roll_periods + 1)\n",
    "            weights.ix[roll_rng, item] = 1 - decay_weights\n",
    "            weights.ix[roll_rng, expiry.index[i + 1]] = decay_weights\n",
    "        else:\n",
    "            weights.ix[prev_date:, item] = 1\n",
    "\n",
    "        prev_date = ex_date\n",
    "    return weights"
   ]
  },
  {
   "cell_type": "markdown",
   "metadata": {},
   "source": [
    "We construct the weights matrix by passing the end date of the historical data, the expiration dates for the future contracts and the names of the contracts to the get_roll_weights function that was just created above."
   ]
  },
  {
   "cell_type": "code",
   "execution_count": 19,
   "metadata": {
    "collapsed": true
   },
   "outputs": [],
   "source": [
    "weights = get_roll_weights('6/7/2017', expiry, prices.columns)"
   ]
  },
  {
   "cell_type": "markdown",
   "metadata": {},
   "source": [
    "Looking at the weights leading up to the expiry of the ESU2 contract, we can see that they begin to transition from the near contract to the far contract a week before the contract expires on 9/21/2017.  The weights for ESU2 slowly drop from 1 to 0 an the weights for ESZ2 increase from 0 to 1 at the inverse rate."
   ]
  },
  {
   "cell_type": "code",
   "execution_count": 20,
   "metadata": {
    "collapsed": false
   },
   "outputs": [
    {
     "data": {
      "text/html": [
       "<div>\n",
       "<table border=\"1\" class=\"dataframe\">\n",
       "  <thead>\n",
       "    <tr style=\"text-align: right;\">\n",
       "      <th></th>\n",
       "      <th>ESU2</th>\n",
       "      <th>ESZ2</th>\n",
       "    </tr>\n",
       "  </thead>\n",
       "  <tbody>\n",
       "    <tr>\n",
       "      <th>2017-09-12</th>\n",
       "      <td>1.0</td>\n",
       "      <td>0.0</td>\n",
       "    </tr>\n",
       "    <tr>\n",
       "      <th>2017-09-13</th>\n",
       "      <td>1.0</td>\n",
       "      <td>0.0</td>\n",
       "    </tr>\n",
       "    <tr>\n",
       "      <th>2017-09-14</th>\n",
       "      <td>0.8</td>\n",
       "      <td>0.2</td>\n",
       "    </tr>\n",
       "    <tr>\n",
       "      <th>2017-09-15</th>\n",
       "      <td>0.6</td>\n",
       "      <td>0.4</td>\n",
       "    </tr>\n",
       "    <tr>\n",
       "      <th>2017-09-18</th>\n",
       "      <td>0.4</td>\n",
       "      <td>0.6</td>\n",
       "    </tr>\n",
       "    <tr>\n",
       "      <th>2017-09-19</th>\n",
       "      <td>0.2</td>\n",
       "      <td>0.8</td>\n",
       "    </tr>\n",
       "    <tr>\n",
       "      <th>2017-09-20</th>\n",
       "      <td>0.0</td>\n",
       "      <td>1.0</td>\n",
       "    </tr>\n",
       "    <tr>\n",
       "      <th>2017-09-21</th>\n",
       "      <td>0.0</td>\n",
       "      <td>1.0</td>\n",
       "    </tr>\n",
       "  </tbody>\n",
       "</table>\n",
       "</div>"
      ],
      "text/plain": [
       "            ESU2  ESZ2\n",
       "2017-09-12   1.0   0.0\n",
       "2017-09-13   1.0   0.0\n",
       "2017-09-14   0.8   0.2\n",
       "2017-09-15   0.6   0.4\n",
       "2017-09-18   0.4   0.6\n",
       "2017-09-19   0.2   0.8\n",
       "2017-09-20   0.0   1.0\n",
       "2017-09-21   0.0   1.0"
      ]
     },
     "execution_count": 20,
     "metadata": {},
     "output_type": "execute_result"
    }
   ],
   "source": [
    "weights.ix['2017-09-12':'2017-09-21']"
   ]
  },
  {
   "cell_type": "markdown",
   "metadata": {},
   "source": [
    "Lastly, we can now calculate the rolled future returns.  This is done by simply multiplying the individual contract returns by their weights and summing the results.  The fact that the weights of the two contracts always sum to 1 allows us to do this."
   ]
  },
  {
   "cell_type": "code",
   "execution_count": 21,
   "metadata": {
    "collapsed": true
   },
   "outputs": [],
   "source": [
    "rolled_returns = (prices.pct_change() * weights).sum(1)"
   ]
  },
  {
   "cell_type": "markdown",
   "metadata": {},
   "source": [
    "When taking the mean of the rolled returns, we get a number very close to 0."
   ]
  },
  {
   "cell_type": "code",
   "execution_count": 22,
   "metadata": {
    "collapsed": false
   },
   "outputs": [
    {
     "data": {
      "text/plain": [
       "-0.0005186290258354034"
      ]
     },
     "execution_count": 22,
     "metadata": {},
     "output_type": "execute_result"
    }
   ],
   "source": [
    "rolled_returns['2017-06-07':].mean()"
   ]
  },
  {
   "cell_type": "markdown",
   "metadata": {},
   "source": [
    "The plot below reveals how random the rolled returns are on a day to day basis.  There also does not appear to be either an upward or downward trend.  Given that each individual step was calculated using a random number and the mean of the result set is effectively zero, the fact that the plotted data appears to fluctuate randomly around 0 is not surprising."
   ]
  },
  {
   "cell_type": "code",
   "execution_count": 23,
   "metadata": {
    "collapsed": false
   },
   "outputs": [
    {
     "data": {
      "text/plain": [
       "<matplotlib.axes._subplots.AxesSubplot at 0x23018feeda0>"
      ]
     },
     "execution_count": 23,
     "metadata": {},
     "output_type": "execute_result"
    },
    {
     "data": {
      "image/png": "[encoded data removed]",
      "text/plain": [
       "<matplotlib.figure.Figure at 0x23018fc85f8>"
      ]
     },
     "metadata": {},
     "output_type": "display_data"
    }
   ],
   "source": [
    "rolled_returns['2017-06-07':].plot()"
   ]
  },
  {
   "cell_type": "markdown",
   "metadata": {},
   "source": [
    "## Conclusions and Future Work"
   ]
  },
  {
   "cell_type": "markdown",
   "metadata": {},
   "source": [
    "The purpose of this case study was to evaluate one method of determining the opportune time to roll from one futures contract to the next.  If successful, we would expect the returns using this method to be positive.  The actual results were neutral, with an approximately zero mean for the returns.  This would lead to the conclusion that the future contract rolling method examined in this study was not effective for Tesla stock."
   ]
  },
  {
   "cell_type": "markdown",
   "metadata": {},
   "source": [
    "There is a lot of room for future work related to this case study.  There may be other data simulation methods that are more accurate than the random walk algorithm used in this study.  There may also be different methods of weighting the future contracts that could be analyzed other than the linear decay method utilized in this study.  This study also only examined one stock.  Future studies could examine more and different stocks to determine if the results produced were simply a function of Tesla's historical closing prices."
   ]
  },
  {
   "cell_type": "markdown",
   "metadata": {},
   "source": [
    "## References"
   ]
  },
  {
   "cell_type": "markdown",
   "metadata": {},
   "source": [
    "Investopedia Staff. (2003, November 23). Futures Contract. Retrieved June 07, 2017, from http://www.investopedia.com/terms/f/futurescontract.sp"
   ]
  },
  {
   "cell_type": "markdown",
   "metadata": {},
   "source": [
    "McKinney, W. (2012). Python for Data Analysis (First ed.). OReilly."
   ]
  }
 ],
 "metadata": {
  "kernelspec": {
   "display_name": "Python [conda root]",
   "language": "python",
   "name": "conda-root-py"
  },
  "language_info": {
   "codemirror_mode": {
    "name": "ipython",
    "version": 3
   },
   "file_extension": ".py",
   "mimetype": "text/x-python",
   "name": "python",
   "nbconvert_exporter": "python",
   "pygments_lexer": "ipython3",
   "version": "3.5.2"
  }
 },
 "nbformat": 4,
 "nbformat_minor": 1
}
